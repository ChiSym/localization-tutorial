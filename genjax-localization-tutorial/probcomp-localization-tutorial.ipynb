{
 "cells": [
  {
   "cell_type": "code",
   "execution_count": null,
   "id": "0",
   "metadata": {
    "lines_to_next_cell": 0
   },
   "outputs": [],
   "source": [
    "# pyright: reportUnusedExpression=false"
   ]
  },
  {
   "cell_type": "code",
   "execution_count": null,
   "id": "1",
   "metadata": {
    "lines_to_next_cell": 0
   },
   "outputs": [],
   "source": [
    "# import sys\n",
    "\n",
    "# if \"google.colab\" in sys.modules:\n",
    "#     from google.colab import auth  # pyright: ignore [reportMissingImports]\n",
    "\n",
    "#     auth.authenticate_user()\n",
    "#     %pip install --quiet keyring keyrings.google-artifactregistry-auth  # type: ignore # noqa\n",
    "#     %pip install --quiet genjax==0.7.0 genstudio==2024.9.7 --extra-index-url https://us-west1-python.pkg.dev/probcomp-caliban/probcomp/simple/  # type: ignore # noqa"
   ]
  },
  {
   "cell_type": "markdown",
   "id": "2",
   "metadata": {
    "lines_to_next_cell": 0
   },
   "source": [
    "# ProbComp Localization Tutorial\n",
    "\n",
    "This notebook provides an introduction to probabilistic computation (ProbComp). This term refers to a way of expressing probabilistic constructs in a computational paradigm, made precise by a probabilistic programming language (PPL). The programmer can encode their probabilistic intuition for solving a problem into an algorithm. Back-end language work automates the routine but error-prone derivations.\n",
    "\n",
    "Dependencies are specified in pyproject.toml."
   ]
  },
  {
   "cell_type": "code",
   "execution_count": null,
   "id": "3",
   "metadata": {},
   "outputs": [],
   "source": [
    "# Global setup code\n",
    "\n",
    "import json\n",
    "import genstudio.plot as Plot\n",
    "import itertools\n",
    "import jax\n",
    "import jax.numpy as jnp\n",
    "import genjax\n",
    "from urllib.request import urlopen\n",
    "from genjax import SelectionBuilder as S\n",
    "from genjax import ChoiceMapBuilder as C\n",
    "from genjax.typing import FloatArray, PRNGKey\n",
    "from penzai import pz\n",
    "from typing import Any, Iterable\n",
    "\n",
    "import os\n",
    "\n",
    "html = Plot.Hiccup\n",
    "Plot.configure({\"display_as\": \"html\", \"dev\": False})\n",
    "\n",
    "# Ensure a location for image generation.\n",
    "os.makedirs(\"imgs\", exist_ok=True)"
   ]
  },
  {
   "cell_type": "markdown",
   "id": "4",
   "metadata": {},
   "source": [
    "## The \"real world\"\n",
    "\n",
    "We assume given\n",
    "* a map of a space, together with\n",
    "* some clutters that sometimes unexpectedly exist in that space.\n",
    "\n",
    "We also assume given a description of a robot's behavior via\n",
    "* an estimated initial pose (position + heading), and\n",
    "* a program of controls (advance distance, followed by rotate heading).\n",
    "\n",
    "*In addition to the uncertainty in the initial pose, we are uncertain about the true execution of the motion of the robot.*\n",
    "\n",
    "Below, we will also introduce sensors."
   ]
  },
  {
   "cell_type": "markdown",
   "id": "5",
   "metadata": {},
   "source": [
    "### Load map and robot data\n",
    "\n",
    "Generally speaking, we keep general code and specific examples in separate cells, as signposted here."
   ]
  },
  {
   "cell_type": "code",
   "execution_count": null,
   "id": "6",
   "metadata": {},
   "outputs": [],
   "source": [
    "# General code here\n",
    "\n",
    "\n",
    "@pz.pytree_dataclass\n",
    "class Pose(genjax.PythonicPytree):\n",
    "    p: FloatArray\n",
    "    hd: FloatArray\n",
    "\n",
    "    def __repr__(self):\n",
    "        return f\"Pose(p={self.p}, hd={self.hd})\"\n",
    "\n",
    "    def dp(self):\n",
    "        return jnp.array([jnp.cos(self.hd), jnp.sin(self.hd)])\n",
    "\n",
    "    def step_along(self, s: float) -> \"Pose\":\n",
    "        \"\"\"\n",
    "        Moves along the direction of the pose by a scalar and returns a new Pose.\n",
    "\n",
    "        Args:\n",
    "            s (float): The scalar distance to move along the pose's direction.\n",
    "\n",
    "        Returns:\n",
    "            Pose: A new Pose object representing the moved position.\n",
    "        \"\"\"\n",
    "        dp = self.dp()\n",
    "        new_p = self.p + s * dp\n",
    "        return Pose(new_p, hd=self.hd)\n",
    "\n",
    "    def apply_control(self, control):\n",
    "        return Pose(self.p + control.ds * self.dp(), self.hd + control.dhd)\n",
    "\n",
    "    def rotate(self, a: float) -> \"Pose\":\n",
    "        \"\"\"\n",
    "        Rotates the pose by angle 'a' (in radians) and returns a new Pose.\n",
    "\n",
    "        Args:\n",
    "            a (float): The angle in radians to rotate the pose.\n",
    "\n",
    "        Returns:\n",
    "            Pose: A new Pose object representing the rotated pose.\n",
    "        \"\"\"\n",
    "        new_hd = self.hd + a\n",
    "        return Pose(self.p, hd=new_hd)\n",
    "\n",
    "\n",
    "@pz.pytree_dataclass\n",
    "class Control(genjax.PythonicPytree):\n",
    "    ds: FloatArray\n",
    "    dhd: FloatArray\n",
    "\n",
    "\n",
    "def create_segments(points):\n",
    "    \"\"\"\n",
    "    Given an array of points of shape (N, 2), return an array of\n",
    "    pairs of points. [p_1, p_2, p_3, ...] -> [[p_1, p_2], [p_2, p_3], ...]\n",
    "    where each p_i is [x_i, y_i]\n",
    "    \"\"\"\n",
    "    return jnp.stack([points, jnp.roll(points, shift=-1, axis=0)], axis=1)\n",
    "\n",
    "\n",
    "def make_world(wall_verts, clutters_vec, start, controls):\n",
    "    \"\"\"\n",
    "    Constructs the world by creating segments for walls and clutters, calculates the bounding box, and prepares the simulation parameters.\n",
    "\n",
    "    Args:\n",
    "    - wall_verts (list of list of float): A list of 2D points representing the vertices of walls.\n",
    "    - clutters_vec (list of list of list of float): A list where each element is a list of 2D points representing the vertices of a clutter.\n",
    "    - start (Pose): The starting pose of the robot.\n",
    "    - controls (list of Control): Control actions for the robot.\n",
    "\n",
    "    Returns:\n",
    "    - tuple: A tuple containing the world configuration, the initial state, and the total number of control steps.\n",
    "    \"\"\"\n",
    "    # Create segments for walls and clutters\n",
    "    walls = create_segments(wall_verts)\n",
    "    clutters = jax.vmap(create_segments)(clutters_vec)\n",
    "\n",
    "    # Combine all points for bounding box calculation\n",
    "    all_points = jnp.vstack(\n",
    "        (jnp.array(wall_verts), jnp.concatenate(clutters_vec), jnp.array([start.p]))\n",
    "    )\n",
    "    x_min, y_min = jnp.min(all_points, axis=0)\n",
    "    x_max, y_max = jnp.max(all_points, axis=0)\n",
    "\n",
    "    # Calculate bounding box, box size, and center point\n",
    "    bounding_box = (x_min, x_max, y_min, y_max)\n",
    "    box_size = max(x_max - x_min, y_max - y_min)\n",
    "    center_point = Pose(\n",
    "        jnp.array([(x_min + x_max) / 2.0, (y_min + y_max) / 2.0]), jnp.array(0.0)\n",
    "    )\n",
    "\n",
    "    # How bouncy the walls are in this world.\n",
    "    bounce = 0.1\n",
    "\n",
    "    # We prepend a zero-effect control step to the control array. This allows\n",
    "    # numerous simplifications in what follows: we can consider the initial\n",
    "    # pose uncertainty as well as each subsequent step to be the same function\n",
    "    # of current position and control step.\n",
    "    noop_control = Control(jnp.array(0.0), jnp.array(0.0))\n",
    "    controls = controls.prepend(noop_control)\n",
    "\n",
    "    # Determine the total number of control steps\n",
    "    T = len(controls.ds)\n",
    "\n",
    "    return (\n",
    "        {\n",
    "            \"walls\": walls,\n",
    "            \"wall_verts\": wall_verts,\n",
    "            \"clutters\": clutters,\n",
    "            \"bounding_box\": bounding_box,\n",
    "            \"box_size\": box_size,\n",
    "            \"center_point\": center_point,\n",
    "            \"bounce\": bounce,\n",
    "        },\n",
    "        {\"start\": start, \"controls\": controls},\n",
    "        T,\n",
    "    )\n",
    "\n",
    "\n",
    "def load_world(file_name):\n",
    "    \"\"\"\n",
    "    Loads the world configuration from a specified file and constructs the world.\n",
    "\n",
    "    Args:\n",
    "    - file_name (str): The name of the file containing the world configuration.\n",
    "\n",
    "    Returns:\n",
    "    - tuple: A tuple containing the world configuration, the initial state, and the total number of control steps.\n",
    "    \"\"\"\n",
    "    with urlopen(\n",
    "        \"https://raw.githubusercontent.com/probcomp/gen-localization/main/resources/example_20_program.json\"\n",
    "    ) as url:\n",
    "        data = json.load(url)\n",
    "\n",
    "    walls_vec = jnp.array(data[\"wall_verts\"])\n",
    "    clutters_vec = jnp.array(data[\"clutter_vert_groups\"])\n",
    "    start = Pose(\n",
    "        jnp.array(data[\"start_pose\"][\"p\"], dtype=float),\n",
    "        jnp.array(data[\"start_pose\"][\"hd\"], dtype=float),\n",
    "    )\n",
    "\n",
    "    cs = jnp.array([[c[\"ds\"], c[\"dhd\"]] for c in data[\"program_controls\"]])\n",
    "    controls = Control(cs[:, 0], cs[:, 1])\n",
    "\n",
    "    return make_world(walls_vec, clutters_vec, start, controls)"
   ]
  },
  {
   "cell_type": "code",
   "execution_count": null,
   "id": "7",
   "metadata": {},
   "outputs": [],
   "source": [
    "# Specific example code here\n",
    "\n",
    "world, robot_inputs, T = load_world(\"../example_20_program.json\")"
   ]
  },
  {
   "cell_type": "markdown",
   "id": "8",
   "metadata": {
    "lines_to_next_cell": 2
   },
   "source": [
    "### Integrate a path from a starting pose and controls\n",
    "\n",
    "If the motion of the robot is determined in an ideal manner by the controls, then we may simply integrate to determine the resulting path. Naïvely, this results in the following."
   ]
  },
  {
   "cell_type": "code",
   "execution_count": null,
   "id": "9",
   "metadata": {
    "lines_to_next_cell": 2
   },
   "outputs": [],
   "source": [
    "def integrate_controls_unphysical(robot_inputs):\n",
    "    \"\"\"\n",
    "    Integrates the controls to generate a path from the starting pose.\n",
    "\n",
    "    This function takes the initial pose and a series of control steps (ds for distance, dhd for heading change)\n",
    "    and computes the resulting path by applying each control step sequentially.\n",
    "\n",
    "    Args:\n",
    "    - robot_inputs (dict): A dictionary containing the starting pose and control steps.\n",
    "\n",
    "    Returns:\n",
    "    - list: A list of Pose instances representing the path taken by applying the controls.\n",
    "    \"\"\"\n",
    "    return jax.lax.scan(\n",
    "        lambda pose, control: (\n",
    "            pose.apply_control(control),\n",
    "            pose.apply_control(control),\n",
    "        ),\n",
    "        robot_inputs[\"start\"],\n",
    "        robot_inputs[\"controls\"],\n",
    "    )[1]"
   ]
  },
  {
   "cell_type": "markdown",
   "id": "10",
   "metadata": {
    "lines_to_next_cell": 2
   },
   "source": [
    "This code has the problem that it is **unphysical**: the walls in no way constrain the robot motion.\n",
    "\n",
    "We employ the following simple physics: when the robot's forward step through a control comes into contact with a wall, that step is interrupted and the robot instead \"bounces\" a fixed distance from the point of contact in the normal direction to the wall."
   ]
  },
  {
   "cell_type": "code",
   "execution_count": null,
   "id": "11",
   "metadata": {},
   "outputs": [],
   "source": [
    "def solve_lines(p, u, q, v, PARALLEL_TOL=1.0e-10):\n",
    "    \"\"\"\n",
    "    Solves for the intersection of two lines defined by points and direction vectors.\n",
    "\n",
    "    Args:\n",
    "    - p, u: Point and direction vector defining the first line.\n",
    "    - q, v: Point and direction vector defining the second line.\n",
    "    - PARALLEL_TOL: Tolerance for determining if lines are parallel.\n",
    "\n",
    "    Returns:\n",
    "    - s, t: Parameters for the line equations at the intersection point.\n",
    "            Returns [-inf, -inf] if lines are parallel.\n",
    "    \"\"\"\n",
    "    det = u[0] * v[1] - u[1] * v[0]\n",
    "    return jnp.where(\n",
    "        jnp.abs(det) < PARALLEL_TOL,\n",
    "        jnp.array([-jnp.inf, -jnp.inf]),\n",
    "        jnp.array(\n",
    "            [\n",
    "                (v[0] * (p[1] - q[1]) - v[1] * (p[0] - q[0])) / det,\n",
    "                (u[1] * (q[0] - p[0]) - u[0] * (q[1] - p[1])) / det,\n",
    "            ]\n",
    "        ),\n",
    "    )\n",
    "\n",
    "\n",
    "def distance(p, seg):\n",
    "    \"\"\"\n",
    "    Computes the distance from a pose to a segment, considering the pose's direction.\n",
    "\n",
    "    Args:\n",
    "    - p: The Pose object.\n",
    "    - seg: The Segment object.\n",
    "\n",
    "    Returns:\n",
    "    - float: The distance to the segment. Returns infinity if no valid intersection is found.\n",
    "    \"\"\"\n",
    "    a = solve_lines(p.p, p.dp(), seg[0], seg[1] - seg[0])\n",
    "    return jnp.where(\n",
    "        (a[0] >= 0.0) & (a[1] >= 0.0) & (a[1] <= 1.0),\n",
    "        a[0],\n",
    "        jnp.inf,\n",
    "    )\n",
    "\n",
    "\n",
    "def compute_wall_normal(wall_direction) -> FloatArray:\n",
    "    normalized_wall_direction = wall_direction / jnp.linalg.norm(wall_direction)\n",
    "    return jnp.array([-normalized_wall_direction[1], normalized_wall_direction[0]])\n",
    "\n",
    "\n",
    "@jax.jit\n",
    "def physical_step(p1: FloatArray, p2: FloatArray, hd):\n",
    "    \"\"\"\n",
    "    Computes a physical step considering wall collisions and bounces.\n",
    "\n",
    "    Args:\n",
    "    - p1, p2: Start and end points of the step.\n",
    "    - hd: Heading direction.\n",
    "\n",
    "    Returns:\n",
    "    - Pose: The new pose after taking the step, considering potential wall collisions.\n",
    "    \"\"\"\n",
    "    # Calculate step direction and length\n",
    "    step_direction = p2 - p1\n",
    "    step_length = jnp.linalg.norm(step_direction)\n",
    "    step_pose = Pose(p1, jnp.arctan2(step_direction[1], step_direction[0]))\n",
    "\n",
    "    # Calculate distances to all walls\n",
    "    distances = jax.vmap(distance, in_axes=(None, 0))(step_pose, world[\"walls\"])\n",
    "\n",
    "    # Find the closest wall\n",
    "    closest_wall_index = jnp.argmin(distances)\n",
    "    closest_wall_distance = distances[closest_wall_index]\n",
    "    closest_wall = world[\"walls\"][closest_wall_index]\n",
    "\n",
    "    # Calculate wall normal and collision point\n",
    "    wall_direction = closest_wall[1] - closest_wall[0]\n",
    "    wall_normal = compute_wall_normal(wall_direction)\n",
    "    collision_point = p1 + closest_wall_distance * step_pose.dp()\n",
    "\n",
    "    # Ensure wall_normal points away from the robot's direction\n",
    "    wall_normal = jnp.where(\n",
    "        jnp.dot(step_pose.dp(), wall_normal) > 0, -wall_normal, wall_normal\n",
    "    )\n",
    "\n",
    "    # Calculate bounce off point\n",
    "    bounce_off_point: FloatArray = collision_point + world[\"bounce\"] * wall_normal\n",
    "\n",
    "    # Determine final position based on whether a collision occurred\n",
    "    final_position = jnp.where(\n",
    "        closest_wall_distance >= step_length, p2, bounce_off_point\n",
    "    )\n",
    "\n",
    "    return Pose(final_position, hd)"
   ]
  },
  {
   "cell_type": "code",
   "execution_count": null,
   "id": "12",
   "metadata": {},
   "outputs": [],
   "source": [
    "def integrate_controls_physical(robot_inputs):\n",
    "    \"\"\"\n",
    "    Integrates controls to generate a path, taking into account physical interactions with walls.\n",
    "\n",
    "    Args:\n",
    "    - robot_inputs: Dictionary containing the starting pose and control steps.\n",
    "\n",
    "    Returns:\n",
    "    - Pose: A Pose object representing the path taken by applying the controls.\n",
    "    \"\"\"\n",
    "    return jax.lax.scan(\n",
    "        lambda pose, control: (\n",
    "            new_pose := physical_step(\n",
    "                pose.p, pose.p + control.ds * pose.dp(), pose.hd + control.dhd\n",
    "            ),\n",
    "            new_pose,\n",
    "        ),\n",
    "        robot_inputs[\"start\"],\n",
    "        robot_inputs[\"controls\"],\n",
    "    )[1]"
   ]
  },
  {
   "cell_type": "code",
   "execution_count": null,
   "id": "13",
   "metadata": {},
   "outputs": [],
   "source": [
    "path_integrated = integrate_controls_physical(robot_inputs)"
   ]
  },
  {
   "cell_type": "markdown",
   "id": "14",
   "metadata": {
    "lines_to_next_cell": 0
   },
   "source": [
    "### Plot such data"
   ]
  },
  {
   "cell_type": "code",
   "execution_count": null,
   "id": "15",
   "metadata": {},
   "outputs": [],
   "source": [
    "def pose_plot(p, fill: str | Any = \"black\", **opts):\n",
    "    r = opts.get(\"r\", 0.5)\n",
    "    wing_opacity = opts.get(\"opacity\", 0.3)\n",
    "    WING_ANGLE, WING_LENGTH = jnp.pi / 12, opts.get(\"wing_length\", 0.6)\n",
    "    center = p.p\n",
    "    angle = jnp.arctan2(*(center - p.step_along(-r).p)[::-1])\n",
    "\n",
    "    # Calculate wing endpoints\n",
    "    wing_ends = [\n",
    "        center - WING_LENGTH * jnp.array([jnp.cos(angle + a), jnp.sin(angle + a)])\n",
    "        for a in [WING_ANGLE, -WING_ANGLE]\n",
    "    ]\n",
    "\n",
    "    # Draw wings\n",
    "    wings = Plot.line(\n",
    "        [wing_ends[0], center, wing_ends[1]],\n",
    "        strokeWidth=opts.get(\"strokeWidth\", 2),\n",
    "        stroke=fill,\n",
    "        opacity=wing_opacity,\n",
    "    )\n",
    "\n",
    "    # Draw center dot\n",
    "    dot = Plot.ellipse([center], fill=fill, **opts)\n",
    "\n",
    "    return wings + dot\n",
    "\n",
    "\n",
    "walls_plot = Plot.new(\n",
    "    Plot.line(\n",
    "        world[\"wall_verts\"],\n",
    "        strokeWidth=2,\n",
    "        stroke=\"#ccc\",\n",
    "    ),\n",
    "    {\"margin\": 0, \"inset\": 50, \"width\": 500, \"axis\": None, \"aspectRatio\": 1},\n",
    "    Plot.domain([0, 20]),\n",
    ")\n",
    "# Plot the world with walls only\n",
    "world_plot = Plot.new(\n",
    "    walls_plot, Plot.frame(strokeWidth=4, stroke=\"#ddd\"), Plot.color_legend()\n",
    ")"
   ]
  },
  {
   "cell_type": "code",
   "execution_count": null,
   "id": "16",
   "metadata": {},
   "outputs": [],
   "source": [
    "# Plot of the starting pose of the robot\n",
    "starting_pose_plot = pose_plot(\n",
    "    robot_inputs[\"start\"],\n",
    "    fill=Plot.constantly(\"given start pose\"),\n",
    ") + Plot.color_map({\"given start pose\": \"blue\"})\n",
    "\n",
    "# Plot of the path from integrating controls\n",
    "controls_path_plot = Plot.dot(\n",
    "    [pose.p for pose in path_integrated],\n",
    "    fill=Plot.constantly(\"path from integrating controls\"),\n",
    ") + Plot.color_map({\"path from integrating controls\": \"#0c0\"})\n",
    "\n",
    "# Plot of the clutters\n",
    "clutters_plot = (\n",
    "    [Plot.line(c[:, 0], fill=Plot.constantly(\"clutters\")) for c in world[\"clutters\"]],\n",
    "    Plot.color_map({\"clutters\": \"magenta\"}),\n",
    ")\n",
    "\n",
    "(\n",
    "    world_plot\n",
    "    + controls_path_plot\n",
    "    + starting_pose_plot\n",
    "    + clutters_plot\n",
    "    + {\"title\": \"Given Data\"}\n",
    ")"
   ]
  },
  {
   "cell_type": "markdown",
   "id": "17",
   "metadata": {
    "lines_to_next_cell": 0
   },
   "source": [
    "\n",
    "TODO(jay): Include code visualization"
   ]
  },
  {
   "cell_type": "markdown",
   "id": "18",
   "metadata": {
    "lines_to_next_cell": 0
   },
   "source": [
    "## Gen basics\n",
    "\n",
    "As said initially, we are uncertain about the true initial position and subsequent motion of the robot.  In order to reason about these, we now specify a model using `Gen`.\n",
    "\n",
    "Each piece of the model is declared as a *generative function* (GF).  The `GenJAX` library provides a DSL for constructing GFs signalled by the use of the `@genjax.gen` decorator on an ordinary Python function. As we shall see, in order for the functions we write to be compilable for a GPU, there are certain constraints we must follow in the use of control flow, which we will discuss soon.\n",
    "\n",
    "\n",
    "The library offers two basic constructs for use within the DSL: primitive *distributions* such as \"bernoulli\" and \"normal\", and the *sampling operator* `@`.  Recursively, GFs may sample from other GFs using `@`."
   ]
  },
  {
   "cell_type": "markdown",
   "id": "19",
   "metadata": {
    "lines_to_next_cell": 0
   },
   "source": [
    "### Components of the motion model\n",
    "\n",
    "We start with the two building blocks: the starting pose and individual steps of motion."
   ]
  },
  {
   "cell_type": "code",
   "execution_count": null,
   "id": "20",
   "metadata": {},
   "outputs": [],
   "source": [
    "# TODO(colin,jay): Originally, we passed motion_settings['p_noise'] ** 2 to\n",
    "# mv_normal_diag, but I think this squares the scale twice. TFP documenentation\n",
    "# - https://www.tensorflow.org/probability/api_docs/python/tfp/distributions/MultivariateNormalDiag\n",
    "# states that: scale = diag(scale_diag); covariance = scale @ scale.T. The second\n",
    "# equation will have the effect of squaring the individual diagonal scales.\n",
    "\n",
    "\n",
    "@genjax.gen\n",
    "def step_proposal(motion_settings, start, control):\n",
    "    p = (\n",
    "        genjax.mv_normal_diag(\n",
    "            start.p + control.ds * start.dp(), motion_settings[\"p_noise\"] * jnp.ones(2)\n",
    "        )\n",
    "        @ \"p\"\n",
    "    )\n",
    "    hd = genjax.normal(start.hd + control.dhd, motion_settings[\"hd_noise\"]) @ \"hd\"\n",
    "    return physical_step(start.p, p, hd)\n",
    "\n",
    "\n",
    "# Set the motion settings\n",
    "default_motion_settings = {\"p_noise\": 0.5, \"hd_noise\": 2 * jnp.pi / 36.0}"
   ]
  },
  {
   "cell_type": "markdown",
   "id": "21",
   "metadata": {},
   "source": [
    "Returning to the code: we find that our function cannot be called directly--it is now a stochastic function!--so we must supply a source of randomness, in the form of a *key*, followed by a tuple of the function's expected arguments, illustrated here:"
   ]
  },
  {
   "cell_type": "code",
   "execution_count": null,
   "id": "22",
   "metadata": {},
   "outputs": [],
   "source": [
    "key = jax.random.PRNGKey(0)\n",
    "step_proposal.simulate(\n",
    "    key, (default_motion_settings, robot_inputs[\"start\"], robot_inputs[\"controls\"][0])\n",
    ").get_retval()"
   ]
  },
  {
   "cell_type": "markdown",
   "id": "23",
   "metadata": {},
   "source": [
    "\n",
    "We called `get_retval()` on the result, which is a *trace*, a data structure with which we become much more familiar before we are done."
   ]
  },
  {
   "cell_type": "code",
   "execution_count": null,
   "id": "24",
   "metadata": {},
   "outputs": [],
   "source": [
    "# Generate points on the unit circle\n",
    "theta = jnp.linspace(0, 2 * jnp.pi, 500)\n",
    "unit_circle_xs = jnp.cos(theta)\n",
    "unit_circle_ys = jnp.sin(theta)\n",
    "\n",
    "\n",
    "# Function to create a circle with center p and radius r\n",
    "def make_circle(p, r):\n",
    "    return (p[0] + r * unit_circle_xs, p[1] + r * unit_circle_ys)"
   ]
  },
  {
   "cell_type": "code",
   "execution_count": null,
   "id": "25",
   "metadata": {},
   "outputs": [],
   "source": [
    "# Generate N_samples of starting poses from the prior\n",
    "N_samples = 50\n",
    "key, sub_key = jax.random.split(key)\n",
    "pose_samples = jax.vmap(step_proposal.simulate, in_axes=(0, None))(\n",
    "    jax.random.split(sub_key, N_samples),\n",
    "    (default_motion_settings, robot_inputs[\"start\"], robot_inputs[\"controls\"][0]),\n",
    ")\n",
    "\n",
    "\n",
    "def poses_to_plots(poses: Iterable[Pose], **plot_opts):\n",
    "    return [pose_plot(pose, **plot_opts) for pose in poses]\n",
    "\n",
    "\n",
    "# Plot the world, starting pose samples, and 95% confidence region\n",
    "# Calculate the radius of the 95% confidence region\n",
    "def confidence_circle(pose: Pose, p_noise: float):\n",
    "    # TODO\n",
    "    # should this also take into account the hd_noise?\n",
    "    return Plot.scaled_circle(\n",
    "        *pose.p,\n",
    "        fill=Plot.constantly(\"95% confidence region\"),\n",
    "        r=2.5 * p_noise,\n",
    "    ) + Plot.color_map({\"95% confidence region\": \"rgba(255,0,0,0.25)\"})\n",
    "\n",
    "\n",
    "(\n",
    "    world_plot\n",
    "    + poses_to_plots([robot_inputs[\"start\"]], fill=Plot.constantly(\"step from here\"))\n",
    "    + confidence_circle(\n",
    "        robot_inputs[\"start\"].apply_control(robot_inputs[\"controls\"][0]),\n",
    "        default_motion_settings[\"p_noise\"],\n",
    "    )\n",
    "    + poses_to_plots(pose_samples.get_retval(), fill=Plot.constantly(\"step samples\"))\n",
    "    + Plot.color_map({\"step from here\": \"#000\", \"step samples\": \"red\"})\n",
    ")"
   ]
  },
  {
   "cell_type": "markdown",
   "id": "26",
   "metadata": {},
   "source": [
    "### Traces: choice maps\n",
    "\n",
    "The actual return value of `step_model.simulate` is a *trace*, which records certain information obtained during execution of the function.\n",
    "\n",
    "The foremost information stored in the trace is the *choice map*, which is tree of labels mapping to the corresponding stochastic choices, i.e. occurrences of the `@` operator, that were encountered.  It is accessed by `get_choices`:"
   ]
  },
  {
   "cell_type": "code",
   "execution_count": null,
   "id": "27",
   "metadata": {
    "lines_to_next_cell": 2
   },
   "outputs": [],
   "source": [
    "# `simulate` takes the GF plus a tuple of args to pass to it.\n",
    "key, sub_key = jax.random.split(key)\n",
    "trace = step_proposal.simulate(\n",
    "    sub_key,\n",
    "    (default_motion_settings, robot_inputs[\"start\"], robot_inputs[\"controls\"][0]),\n",
    ")\n",
    "trace.get_choices()"
   ]
  },
  {
   "cell_type": "markdown",
   "id": "28",
   "metadata": {},
   "source": [
    "The choice map being the point of focus of the trace in most discussions, we often abusively just speak of a *trace* when we really mean its *choice map*."
   ]
  },
  {
   "cell_type": "markdown",
   "id": "29",
   "metadata": {},
   "source": [
    "### GenJAX API for traces\n",
    "\n",
    "One can access the primitive choices in a trace using the method `get_choices`.\n",
    "One can access from a trace the GF that produced it using `trace.get_gen_fn()`, along with with arguments that were supplied using `trace.get_args()`, and the return value sample of the GF using the method `get_retval()`.  See below the fold for examples of all these."
   ]
  },
  {
   "cell_type": "code",
   "execution_count": null,
   "id": "30",
   "metadata": {
    "lines_to_next_cell": 0
   },
   "outputs": [],
   "source": [
    "pose_choices = trace.get_choices()"
   ]
  },
  {
   "cell_type": "code",
   "execution_count": null,
   "id": "31",
   "metadata": {
    "lines_to_next_cell": 0
   },
   "outputs": [],
   "source": [
    "pose_choices[\"hd\"]"
   ]
  },
  {
   "cell_type": "code",
   "execution_count": null,
   "id": "32",
   "metadata": {
    "lines_to_next_cell": 0
   },
   "outputs": [],
   "source": [
    "pose_choices[\"p\"]"
   ]
  },
  {
   "cell_type": "code",
   "execution_count": null,
   "id": "33",
   "metadata": {
    "lines_to_next_cell": 0
   },
   "outputs": [],
   "source": [
    "trace.get_gen_fn()"
   ]
  },
  {
   "cell_type": "code",
   "execution_count": null,
   "id": "34",
   "metadata": {
    "lines_to_next_cell": 0
   },
   "outputs": [],
   "source": [
    "trace.get_args()"
   ]
  },
  {
   "cell_type": "code",
   "execution_count": null,
   "id": "35",
   "metadata": {
    "lines_to_next_cell": 0
   },
   "outputs": [],
   "source": [
    "trace.get_retval()"
   ]
  },
  {
   "cell_type": "markdown",
   "id": "36",
   "metadata": {},
   "source": [
    "### Traces: scores/weights/densities\n",
    "\n",
    "Traced execution of a generative function also produces a particular kind of score/weight/density.  It is very important to be clear about which score/weight/density value is to be expected, and why.  Consider the following generative function\n",
    "```\n",
    "p = 0.25\n",
    "@genjax.gen\n",
    "def g(x,y):\n",
    "  flip = genjax.flip(p) @ 'flip'\n",
    "  return jax.lax.select(flip, x, y)\n",
    "end\n",
    "```\n",
    "that, given two inputs `x` and `y`, flips a coin with weight `p`, and accordingly returns `x` or `y`.  When `x` and `y` are unequal, a sensible reporting of the score/weight/density in the sampling process would produce `p` or `1.0-p` accordingly.  If the user supplied equal values `x == y`, then which score/weight/density should be returned?\n",
    "\n",
    "One tempting view identifies a GF with a *distribution over its return values*.  In this view, the correct score/weight/density of `g` above would be $1$.\n",
    "\n",
    "The mathematical picture would be as follows.  Given a stochastic function $g$ from $X$ to $X'$, the results of calling $g$ on the input $x$ are described by a probability distribution $k_{g;x}$ on $X'$.  A family of probability distributions of this form is called a *probability kernel* and is indicated by the dashed arrow $k_g \\colon X \\dashrightarrow X'$.  And for some $x,x'$ we would be seeking the density $k_{g;x}(x')$ with which the sample $x' \\sim k_{g;x}$ occurs.  Pursuing this approach requires knowlege of all execution histories that $g$ that might have followed from $x$ to $x'$, and then performing a sum or integral over them.  For some small finite situations this may be fine, but this general problem of computing marginalizations is computationally impossible.\n",
    "\n",
    "The marginalization question is especially forced upon us when trying to compose stochastic functions.  Given a second stochastic function $g'$ from $X'$ to $X''$, corresponding to a probability kernel $k_{g'} \\colon X' \\dashrightarrow X''$, the composite $g' \\circ g$ from $X$ to $X''$ should correspond to the following probability kernel $k_{g' \\circ g} \\colon X \\dashrightarrow X''$.  To sample $x'' \\sim k_{g' \\circ g;x}$ means \"sample $x' \\sim k_{g;x}$, then sample $x'' \\sim k_{g';x'}$, then return $x''$\".  However, computing the density $k_{g' \\circ g;x}(x'')$, even if one can compute $k_{g;x}(x')$ and $k_{g';x'}(x'')$ for any given $x,x',x''$, would require summing or integrating over all possible intermediate values $x'$ (which manifests an \"execution history\" of $g' \\circ g$) that could have intervened in producing $x''$ given $x$.\n",
    "\n",
    "Therefore, distribution-over-return-values is ***not the viewpoint of Gen***, and the score/weight/density being introduced here is a ***different number***.\n",
    "\n",
    "The only thing a program can reasonably be expected to know is the score/weight/density of its arriving at its return value *via the particular stochastic computation path* that got it there, and the approach of Gen is to report this number.  The corresponding mathematical picture imagines GFs as factored into *distributions over choice maps*, whose score/weight/density is computable, together with *deterministic functions on these data* that produce the return value from them.  In mathematical language, a GF $g$ from $X$ to $X'$ corresponds to the data of an auxiliary space $U_g$ containing all of the choice map information, a probability kernel $k_g \\colon X \\dashrightarrow U_g$ (with computable density) embodying the stochastic execution history, and a deterministic function that we will (somewhat abusively) denote $g \\colon X \\times U_g \\to X'$ embodying extraction of the return value from the particular stochastic execution choices.\n",
    "\n",
    "In the toy example `g` above, choice map consists of `flip` so the space $U_g$ is binary; the deterministic computation $g$ amounts to the `return` statement; and the score/weight/density is `p` or `1.0-p`, regardless of whether the inputs are equal.\n",
    "\n",
    "Tractable compositionality holds in this formulation; let's spell it out.  If another GF $g'$ from $X'$ to $X''$ has data $U_{g'}$, $k_{g'}$, and $g' \\colon X' \\times U_{g'} \\to X''$, then the composite GF $g' \\circ g$ from $X$ to $X''$ has the following data.\n",
    "* The auxiliary space is $U_{g' \\circ g} := U_g \\times U_{g'}$.\n",
    "* The kernel $k_{g' \\circ g}$ is defined by \"sample $u \\sim k_{g;x}$, then compute $x' = \\text{ret}_g(x,u)$, then sample $u' \\sim k_{g';x'}$, then return $(u,u')$\", and\n",
    "* its density is computed via $k_{g' \\circ g; x}(u,u') := k_{g;x}(u) \\cdot k_{g';g(x,u)}(u')$.\n",
    "* The return value function is $(g' \\circ g)(x,(u,u')) := g'(g(x,u),u')$.\n",
    "\n",
    "As one composes more GFs, the auxiliary space accumulates more factors $U$, reflecting how the \"execution history\" consists of longer and longer records.\n",
    "\n",
    "In this picture, one may still be concerned with the distribution on return values as in the straw man viewpoint.  This information is still embodied in the aggregate of the stochastic executions that lead to any return value, together with their weights.  (Consider that this is true even in the toy example!  More math?)  In a sense, when we kick the can of marginalization down the road, we can proceed without difficulty.\n",
    "\n",
    "A final caveat: The common practice of confusing traces with their choice maps continues here, and we speak of a GF inducing a \"distribution over traces\"."
   ]
  },
  {
   "cell_type": "markdown",
   "id": "37",
   "metadata": {},
   "source": [
    "Let's have a look at the score/weight/densities in our running example.\n",
    "\n",
    "A pose consists of a pair $z = (z_\\text p, z_\\text{hd})$ where $z_\\text p$ is a position vector and $z_\\text{hd}$ is an angle.  A control consists of a pair $(s, \\eta)$ where $s$ is a distance of displacement and $\\eta$ is a change in angle.  Write $u(\\theta) = (\\cos\\theta, \\sin\\theta)$ for the unit vector in the direction $\\theta$.  We are given a \"world\" $w$ and \"motion settings\" parameters $\\nu = (\\nu_\\text p, \\nu_\\text{hd})$.\n",
    "\n",
    "The models and `step_proposal` correspond to distributions over their traces, respectively written $\\text{start}$ and $\\text{step}$.  In both cases these traces consist of the choices at addresses `:p` and `:hd`, so they may be identified with poses $z$ as above.  The distributions are defined as follows, when $y$ is a pose:\n",
    "* $z \\sim \\text{start}(y, \\nu)$ means that $z_\\text p \\sim \\text{mvnormal}(y_\\text p, \\nu_\\text p^2 I)$ and $z_\\text{hd} \\sim \\text{normal}(y_\\text{hd}, \\nu_\\text{hd})$ independently.\n",
    "* $z \\sim \\text{step}(y, (s, \\eta), w, \\nu)$ means that $z_\\text p \\sim \\text{mvnormal}(y_\\text p + s\\,u(y_\\text{hd}), \\nu_\\text p^2 I)$ and $z_\\text{hd} \\sim \\text{normal}(y_\\text{hd} + \\eta, \\nu_\\text {hd})$ independently.\n",
    "\n",
    "The return values $\\text{retval}(z)$ of these models are obtained from traces $z$ by reducing $z_\\text{hd}$ modulo $2\\pi$, and in the second case applying collision physics (relative to $w$) to the path from $y_\\text p$ to $z_\\text p$.  (We invite the reader to imagine if PropComp required us to compute the marginal density of the return value here!)  We have the following closed form for the density functions:\n",
    "$$\\begin{align*}\n",
    "P_\\text{start}(z; y, \\nu)\n",
    "&= P_\\text{mvnormal}(z_\\text p; y_\\text p, \\nu_\\text p^2 I)\n",
    "\\cdot P_\\text{normal}(z_\\text{hd}; y_\\text{hd}, \\nu_\\text{hd}), \\\\\n",
    "P_\\text{step}(z; y, (s, \\eta), w, \\nu)\n",
    "&= P_\\text{mvnormal}(z_\\text p; y_\\text p + s\\,u(y_\\text{hd}), \\nu_\\text p^2 I)\n",
    "\\cdot P_\\text{normal}(z_\\text{hd}; y_\\text{hd} + \\eta, \\nu_\\text{hd}).\n",
    "\\end{align*}$$\n",
    "\n",
    "In general, the density of any trace factors as the product of the densities of the individual primitive choices that appear in it.  Since the primitive distributions of the language are equipped with efficient probability density functions, this overall computation is tractable.  It is represented by `Gen.get_score`:"
   ]
  },
  {
   "cell_type": "code",
   "execution_count": null,
   "id": "38",
   "metadata": {
    "lines_to_next_cell": 2
   },
   "outputs": [],
   "source": [
    "trace.get_score()"
   ]
  },
  {
   "cell_type": "markdown",
   "id": "39",
   "metadata": {},
   "source": [
    "#### Subscores/subweights/subdensities\n",
    "\n",
    "Instead of (the log of) the product of all the primitive choices made in a trace, one can take the product over just a subset using `Gen.project`.  See below the fold for examples."
   ]
  },
  {
   "cell_type": "code",
   "execution_count": null,
   "id": "40",
   "metadata": {
    "lines_to_next_cell": 0,
    "title": "[hide-input]"
   },
   "outputs": [],
   "source": [
    "# jax.random.split(jax.random.PRNGKey(3333), N_samples).shape\n",
    "\n",
    "ps0 = jax.tree.map(lambda v: v[0], pose_samples)\n",
    "(\n",
    "    ps0.project(jax.random.PRNGKey(2), S[()]),\n",
    "    ps0.project(jax.random.PRNGKey(2), S[\"p\"]),\n",
    "    ps0.project(jax.random.PRNGKey(2), S[\"p\"] | S[\"hd\"]),\n",
    ")\n",
    "\n",
    "key, sub_key = jax.random.split(key)\n",
    "trace.project(key, S[()])"
   ]
  },
  {
   "cell_type": "code",
   "execution_count": null,
   "id": "41",
   "metadata": {
    "lines_to_next_cell": 0
   },
   "outputs": [],
   "source": [
    "key, sub_key = jax.random.split(key)\n",
    "trace.project(key, S[(\"p\")])"
   ]
  },
  {
   "cell_type": "code",
   "execution_count": null,
   "id": "42",
   "metadata": {},
   "outputs": [],
   "source": [
    "key, sub_key = jax.random.split(key)\n",
    "trace.project(key, S[\"p\"] | S[\"hd\"])"
   ]
  },
  {
   "cell_type": "markdown",
   "id": "43",
   "metadata": {
    "lines_to_next_cell": 0
   },
   "source": [
    "If in fact all of those projections resulted in the same number, you have encountered the issue [GEN-316](https://linear.app/chi-fro/issue/GEN-316/project-is-broken-in-genjax).\n",
    "\n",
    "### Modeling a full path\n",
    "\n",
    "The model contains all information in its trace, rendering its return value redundant.  The noisy path integration will just be a wrapper around its functionality, extracting what it needs from the trace.\n",
    "\n",
    "(It is worth acknowledging two strange things in the code below: the use of the suffix `.accumulate()` in path_model and the use of that auxiliary function itself."
   ]
  },
  {
   "cell_type": "code",
   "execution_count": null,
   "id": "44",
   "metadata": {},
   "outputs": [],
   "source": [
    "path_model = (\n",
    "    step_proposal.partial_apply(default_motion_settings).map(lambda r: (r, r)).scan()\n",
    ")"
   ]
  },
  {
   "cell_type": "code",
   "execution_count": null,
   "id": "45",
   "metadata": {},
   "outputs": [],
   "source": [
    "def generate_path_trace(key: PRNGKey) -> genjax.Trace:\n",
    "    return path_model.simulate(key, (robot_inputs[\"start\"], robot_inputs[\"controls\"]))\n",
    "\n",
    "\n",
    "def path_from_trace(tr: genjax.Trace) -> Pose:\n",
    "    return tr.get_retval()[1]\n",
    "\n",
    "\n",
    "def generate_path(key: PRNGKey) -> Pose:\n",
    "    return path_from_trace(generate_path_trace(key))"
   ]
  },
  {
   "cell_type": "code",
   "execution_count": null,
   "id": "46",
   "metadata": {
    "lines_to_next_cell": 0
   },
   "outputs": [],
   "source": [
    "key, sub_key = jax.random.split(key)\n",
    "generate_path_trace(sub_key)"
   ]
  },
  {
   "cell_type": "code",
   "execution_count": null,
   "id": "47",
   "metadata": {
    "lines_to_next_cell": 0
   },
   "outputs": [],
   "source": [
    "N_samples = 12\n",
    "key, sub_key = jax.random.split(key)\n",
    "sample_paths_v = jax.vmap(generate_path)(jax.random.split(sub_key, N_samples))\n",
    "\n",
    "Plot.Grid(*[walls_plot + poses_to_plots(path) for path in sample_paths_v])"
   ]
  },
  {
   "cell_type": "code",
   "execution_count": null,
   "id": "48",
   "metadata": {},
   "outputs": [],
   "source": [
    "# Animation showing a single path with confidence circles\n",
    "\n",
    "\n",
    "def plot_path_with_confidence(path: Pose, step: int, p_noise: float):\n",
    "    plot = (\n",
    "        world_plot\n",
    "        + [pose_plot(path[i]) for i in range(step + 1)]\n",
    "        + Plot.color_map({\"next pose\": \"red\"})\n",
    "    )\n",
    "    if step < len(path) - 1:\n",
    "        plot += [\n",
    "            confidence_circle(\n",
    "                path[step].apply_control(robot_inputs[\"controls\"][step]),\n",
    "                p_noise,\n",
    "            ),\n",
    "            pose_plot(path[step + 1], fill=Plot.constantly(\"next pose\")),\n",
    "        ]\n",
    "    return plot\n",
    "\n",
    "\n",
    "def animate_path_with_confidence(path: Pose, motion_settings: dict):\n",
    "    frames = [\n",
    "        plot_path_with_confidence(path, step, motion_settings[\"p_noise\"])\n",
    "        for step in range(len(path.p))\n",
    "    ]\n",
    "\n",
    "    return Plot.Frames(frames, fps=2)\n",
    "\n",
    "\n",
    "# Generate a single path\n",
    "key, sample_key = jax.random.split(key)\n",
    "path = generate_path(sample_key)\n",
    "Plot.Frames(\n",
    "    [\n",
    "        plot_path_with_confidence(path, step, default_motion_settings[\"p_noise\"])\n",
    "        + Plot.title(\"Motion model (samples)\")\n",
    "        for step in range(len(path))\n",
    "    ],\n",
    "    fps=2,\n",
    ")"
   ]
  },
  {
   "cell_type": "markdown",
   "id": "49",
   "metadata": {
    "lines_to_next_cell": 0
   },
   "source": [
    "### Modifying traces\n",
    "\n",
    "The metaprogramming approach of Gen affords the opportunity to explore alternate stochastic execution histories.  Namely, `trace.update` takes as inputs a source of randomness, together with modifications to its arguments and primitive choice values, and returns an accordingly modified trace. It also returns (the log of) the ratio of the updated trace's density to the original trace's density, together with a precise record of the resulting modifications that played out.\n",
    "\n",
    "One could, for instance, consider just the placement of the first step, and replace its stochastic choice of heading with an updated value. The original trace was typical under the pose prior model, whereas the modified one may be rather less likely. This plot is annotated with log of how much unlikelier, the score ratio:"
   ]
  },
  {
   "cell_type": "code",
   "execution_count": null,
   "id": "50",
   "metadata": {},
   "outputs": [],
   "source": [
    "key, sub_key = jax.random.split(key)\n",
    "trace = step_proposal.simulate(\n",
    "    sub_key,\n",
    "    (default_motion_settings, robot_inputs[\"start\"], robot_inputs[\"controls\"][0]),\n",
    ")\n",
    "key, sub_key = jax.random.split(key)\n",
    "rotated_trace, rotated_trace_weight_diff, _, _ = trace.update(\n",
    "    sub_key, C[\"hd\"].set(jnp.pi / 2.0)\n",
    ")\n",
    "\n",
    "# TODO(huebert): try using a slider to choose the heading we set (initial value is 0.0)\n",
    "\n",
    "(\n",
    "    Plot.new(\n",
    "        world_plot\n",
    "        + pose_plot(trace.get_retval(), fill=Plot.constantly(\"some pose\"))\n",
    "        + pose_plot(\n",
    "            rotated_trace.get_retval(), fill=Plot.constantly(\"with heading modified\")\n",
    "        )\n",
    "        + Plot.color_map({\"some pose\": \"green\", \"with heading modified\": \"red\"})\n",
    "        + Plot.title(\"Modifying a heading\")\n",
    "    )\n",
    "    | html(\"span.tc\", f\"score ratio: {rotated_trace_weight_diff}\")\n",
    ")"
   ]
  },
  {
   "cell_type": "markdown",
   "id": "51",
   "metadata": {
    "lines_to_next_cell": 0
   },
   "source": [
    "It is worth carefully thinking through a trickier instance of this.  Suppose instead, within the full path, we replaced the first step's stochastic choice of heading with some specific value."
   ]
  },
  {
   "cell_type": "code",
   "execution_count": null,
   "id": "52",
   "metadata": {},
   "outputs": [],
   "source": [
    "key, sub_key = jax.random.split(key)\n",
    "trace = generate_path_trace(sub_key)\n",
    "key, sub_key = jax.random.split(key)\n",
    "\n",
    "rotated_first_step, rotated_first_step_weight_diff, _, _ = trace.update(\n",
    "    sub_key, C[0, \"steps\", \"pose\", \"hd\"].set(jnp.pi / 2.0)\n",
    ")"
   ]
  },
  {
   "cell_type": "code",
   "execution_count": null,
   "id": "53",
   "metadata": {},
   "outputs": [],
   "source": [
    "(\n",
    "    world_plot\n",
    "    + [\n",
    "        pose_plot(pose, fill=Plot.constantly(\"with heading modified\"))\n",
    "        for pose in path_from_trace(rotated_first_step)\n",
    "    ]\n",
    "    + [\n",
    "        pose_plot(pose, fill=Plot.constantly(\"some path\"))\n",
    "        for pose in path_from_trace(trace)\n",
    "    ]\n",
    "    + Plot.color_map({\"some path\": \"green\", \"with heading modified\": \"red\"})\n",
    ") | html(\"span.tc\", f\"score ratio: {rotated_first_step_weight_diff}\")"
   ]
  },
  {
   "cell_type": "markdown",
   "id": "54",
   "metadata": {
    "lines_to_next_cell": 0
   },
   "source": [
    "### Ideal sensors\n",
    "\n",
    "We now, additionally, assume the robot is equipped with sensors that cast\n",
    "rays upon the environment at certain angles relative to the given pose,\n",
    "and return the distance to a hit.\n",
    "\n",
    "We first describe the ideal case, where the sensors return the true\n",
    "distances to the walls."
   ]
  },
  {
   "cell_type": "code",
   "execution_count": null,
   "id": "55",
   "metadata": {
    "lines_to_next_cell": 2
   },
   "outputs": [],
   "source": [
    "sensor_settings = {\n",
    "    \"fov\": 2 * jnp.pi * (2 / 3),\n",
    "    \"num_angles\": 41,\n",
    "    \"box_size\": world[\"box_size\"],\n",
    "}\n",
    "\n",
    "\n",
    "def sensor_distance(pose, walls, box_size):\n",
    "    distances = jax.vmap(distance, in_axes=(None, 0))(pose, walls)\n",
    "    d = jnp.min(distances)\n",
    "    # Capping to a finite value avoids issues below.\n",
    "    return jnp.where(jnp.isinf(d), 2.0 * box_size, d)\n",
    "\n",
    "\n",
    "# This represents a \"fan\" of sensor angles, with given field of vision, centered at angle 0.\n",
    "\n",
    "\n",
    "def make_sensor_angles(sensor_settings):\n",
    "    na = sensor_settings[\"num_angles\"]\n",
    "    return sensor_settings[\"fov\"] * (jnp.arange(na) - jnp.floor(na / 2)) / (na - 1)\n",
    "\n",
    "\n",
    "sensor_angles = make_sensor_angles(sensor_settings)\n",
    "\n",
    "\n",
    "def ideal_sensor(pose: Pose):\n",
    "    walls = world[\"walls\"]\n",
    "    box_size = sensor_settings[\"box_size\"]\n",
    "\n",
    "    def reading(angle):\n",
    "        return sensor_distance(pose.rotate(angle), walls, box_size)\n",
    "\n",
    "    return jax.vmap(reading)(sensor_angles)"
   ]
  },
  {
   "cell_type": "code",
   "execution_count": null,
   "id": "56",
   "metadata": {},
   "outputs": [],
   "source": [
    "# Plot sensor data.\n",
    "\n",
    "\n",
    "def plot_sensors(pose: Pose, readings):\n",
    "    projections = [\n",
    "        pose.rotate(angle).step_along(s) for angle, s in zip(sensor_angles, readings)\n",
    "    ]\n",
    "\n",
    "    return [\n",
    "        Plot.line(\n",
    "            [(x, y, i) for i, p in enumerate(projections) for x, y in [pose.p, p.p]],\n",
    "            stroke=Plot.constantly(\"sensor rays\"),\n",
    "        ),\n",
    "        [\n",
    "            Plot.dot(\n",
    "                [pose.p for pose in projections],\n",
    "                r=2.75,\n",
    "                fill=Plot.constantly(\"sensor readings\"),\n",
    "            )\n",
    "        ],\n",
    "        Plot.color_map({\"sensor rays\": \"rgba(0,0,0,0.1)\", \"sensor readings\": \"#f80\"}),\n",
    "    ]\n",
    "\n",
    "\n",
    "world_plot + plot_sensors(robot_inputs[\"start\"], ideal_sensor(robot_inputs[\"start\"]))"
   ]
  },
  {
   "cell_type": "code",
   "execution_count": null,
   "id": "57",
   "metadata": {},
   "outputs": [],
   "source": [
    "def animate_path_with_sensor(path, readings):\n",
    "    frames = [\n",
    "        (\n",
    "            world_plot\n",
    "            + [pose_plot(pose) for pose in path[:step]]\n",
    "            + plot_sensors(pose, readings[step])\n",
    "            + [pose_plot(pose, fill=\"red\")]\n",
    "        )\n",
    "        for step, pose in enumerate(path)\n",
    "    ]\n",
    "    return Plot.Frames(frames, fps=2)\n",
    "\n",
    "\n",
    "key, sample_key = jax.random.split(key)\n",
    "path = generate_path(sample_key)\n",
    "readings = jax.vmap(ideal_sensor)(path)\n",
    "animate_path_with_sensor(generate_path(sample_key), readings)"
   ]
  },
  {
   "cell_type": "markdown",
   "id": "58",
   "metadata": {
    "lines_to_next_cell": 0
   },
   "source": [
    "### Noisy sensors\n",
    "\n",
    "We assume that the sensor readings are themselves uncertain, say, the distances only knowable\n",
    "up to some noise.  We model this as follows."
   ]
  },
  {
   "cell_type": "code",
   "execution_count": null,
   "id": "59",
   "metadata": {},
   "outputs": [],
   "source": [
    "@genjax.gen\n",
    "def sensor_model_one(pose, angle):\n",
    "    sensor_pose = pose.rotate(angle)\n",
    "    return (\n",
    "        genjax.normal(\n",
    "            sensor_distance(sensor_pose, world[\"walls\"], sensor_settings[\"box_size\"]),\n",
    "            sensor_settings[\"s_noise\"],\n",
    "        )\n",
    "        @ \"distance\"\n",
    "    )\n",
    "\n",
    "\n",
    "sensor_model = sensor_model_one.vmap(in_axes=(None, 0))\n",
    "\n",
    "\n",
    "def noisy_sensor(pose):\n",
    "    trace = sensor_model.simulate(key, (pose, sensor_angles))\n",
    "    return trace"
   ]
  },
  {
   "cell_type": "markdown",
   "id": "60",
   "metadata": {
    "lines_to_next_cell": 0
   },
   "source": [
    "The trace contains many choices corresponding to directions of sensor reading from the input pose. To explore the trace values, open the \"folders\" within the trace by clicking on the small triangles until you see the 41-element array of sensor values."
   ]
  },
  {
   "cell_type": "code",
   "execution_count": null,
   "id": "61",
   "metadata": {},
   "outputs": [],
   "source": [
    "sensor_settings[\"s_noise\"] = 0.10\n",
    "\n",
    "key, sub_key = jax.random.split(key)\n",
    "trace = sensor_model.simulate(sub_key, (robot_inputs[\"start\"], sensor_angles))"
   ]
  },
  {
   "cell_type": "markdown",
   "id": "62",
   "metadata": {
    "lines_to_next_cell": 0
   },
   "source": [
    "The mathematical picture is as follows.  Given the parameters of a pose $y$, walls $w$,\n",
    "and settings $\\nu$, one gets a distribution $\\text{sensor}(y, w, \\nu)$ over the traces\n",
    "of `sensor_model`, and when $z$ is a motion model trace we set\n",
    "$\\text{sensor}(z, w, \\nu) := \\text{sensor}(\\text{retval}(z), w, \\nu)$.\n",
    "Its samples are identified with vectors $o = (o^{(1)}, o^{(2)}, \\ldots, o^{(J)})$, where\n",
    "$J := \\nu_\\text{num\\_angles}$, each $o^{(j)}$ independently following a certain normal\n",
    "distribution (depending, notably, on the distance from the pose to the nearest wall).\n",
    "Thus the density of $o$ factors into a product of the form\n",
    "$$\n",
    "P_\\text{sensor}(o) = \\prod\\nolimits_{j=1}^J P_\\text{normal}(o^{(j)})\n",
    "$$\n",
    "where we begin a habit of omitting the parameters to distributions that are implied by the code.\n",
    "\n",
    "Visualizing the traces of the model is probably more useful for orientation, so we do this now."
   ]
  },
  {
   "cell_type": "code",
   "execution_count": null,
   "id": "63",
   "metadata": {},
   "outputs": [],
   "source": [
    "key, sub_key = jax.random.split(key)\n",
    "path = generate_path(sub_key)\n",
    "readings = jax.vmap(noisy_sensor)(path).get_retval()\n",
    "animate_path_with_sensor(path, readings)"
   ]
  },
  {
   "cell_type": "code",
   "execution_count": null,
   "id": "64",
   "metadata": {
    "lines_to_next_cell": 0
   },
   "outputs": [],
   "source": [
    "# TODO: annotate plot with title \"Sensor model (samples)\""
   ]
  },
  {
   "cell_type": "markdown",
   "id": "65",
   "metadata": {
    "lines_to_next_cell": 0
   },
   "source": [
    "### Full model\n",
    "\n",
    "We fold the sensor model into the motion model to form a \"full model\", whose traces describe simulations of the entire robot situation as we have described it."
   ]
  },
  {
   "cell_type": "code",
   "execution_count": null,
   "id": "66",
   "metadata": {
    "lines_to_next_cell": 0
   },
   "outputs": [],
   "source": [
    "@genjax.gen\n",
    "def full_model_kernel(motion_settings, state, control):\n",
    "    pose = step_proposal(motion_settings, state, control) @ \"pose\"\n",
    "    sensor_model(pose, sensor_angles) @ \"sensor\"\n",
    "    return pose, pose\n",
    "\n",
    "\n",
    "@genjax.gen\n",
    "def full_model(motion_settings):\n",
    "    return (\n",
    "        full_model_kernel.partial_apply(motion_settings).scan()(\n",
    "            robot_inputs[\"start\"], robot_inputs[\"controls\"]\n",
    "        )\n",
    "        @ \"steps\"\n",
    "    )\n",
    "\n",
    "\n",
    "def get_path(trace):\n",
    "    # p = trace.get_subtrace((\"initial\",)).get_retval()\n",
    "    ps = trace.get_retval()[1]\n",
    "    return ps\n",
    "\n",
    "\n",
    "def get_sensors(trace):\n",
    "    ch = trace.get_choices()\n",
    "    # return jnp.concatenate((\n",
    "    #     ch[\"initial\", \"sensor\", ..., \"distance\"][jnp.newaxis],\n",
    "    #     ch[\"steps\", ..., \"sensor\", ..., \"distance\"]\n",
    "    # ))\n",
    "    return ch[\"steps\", ..., \"sensor\", ..., \"distance\"]\n",
    "\n",
    "\n",
    "key, sub_key = jax.random.split(key)\n",
    "tr = full_model.simulate(sub_key, (default_motion_settings,))\n",
    "\n",
    "pz.ts.display(tr)"
   ]
  },
  {
   "cell_type": "code",
   "execution_count": null,
   "id": "67",
   "metadata": {
    "lines_to_next_cell": 0
   },
   "outputs": [],
   "source": []
  },
  {
   "cell_type": "markdown",
   "id": "68",
   "metadata": {},
   "source": [
    "Again, the trace of the full model contains many choices, so we have used the Penzai visualization library to render the result. Click on the various nesting arrows and see if you can find the path within. For our purposes, we will supply a function `get_path` which will extract the list of Poses that form the path."
   ]
  },
  {
   "cell_type": "markdown",
   "id": "69",
   "metadata": {
    "lines_to_next_cell": 0
   },
   "source": [
    "In the math picture, `full_model` corresponds to a distribution $\\text{full}$ over its traces.  Such a trace is identified with of a pair $(z_{0:T}, o_{0:T})$ where $z_{0:T} \\sim \\text{path}(\\ldots)$ and $o_t \\sim \\text{sensor}(z_t, \\ldots)$ for $t=0,\\ldots,T$.  The density of this trace is then\n",
    "$$\\begin{align*}\n",
    "P_\\text{full}(z_{0:T}, o_{0:T})\n",
    "&= P_\\text{path}(z_{0:T}) \\cdot \\prod\\nolimits_{t=0}^T P_\\text{sensor}(o_t) \\\\\n",
    "&= \\big(P_\\text{start}(z_0)\\ P_\\text{sensor}(o_0)\\big)\n",
    "  \\cdot \\prod\\nolimits_{t=1}^T \\big(P_\\text{step}(z_t)\\ P_\\text{sensor}(o_t)\\big).\n",
    "\\end{align*}$$\n",
    "\n",
    "By this point, visualization is essential."
   ]
  },
  {
   "cell_type": "code",
   "execution_count": null,
   "id": "70",
   "metadata": {
    "lines_to_next_cell": 0
   },
   "outputs": [],
   "source": [
    "key, sub_key = jax.random.split(key)\n",
    "tr = full_model.simulate(sub_key, (default_motion_settings,))\n",
    "\n",
    "\n",
    "def animate_path_and_sensors(path, readings, motion_settings, frame_key=None):\n",
    "    frames = [\n",
    "        plot_path_with_confidence(path, step, motion_settings[\"p_noise\"])\n",
    "        + plot_sensors(pose, readings[step])\n",
    "        for step, pose in enumerate(path)\n",
    "    ]\n",
    "\n",
    "    return Plot.Frames(frames, fps=2, key=frame_key)\n",
    "\n",
    "\n",
    "def animate_full_trace(trace, frame_key=None):\n",
    "    path = get_path(trace)\n",
    "    readings = get_sensors(trace)\n",
    "    motion_settings = trace.get_args()[0]\n",
    "    return animate_path_and_sensors(\n",
    "        path, readings, motion_settings, frame_key=frame_key\n",
    "    )\n",
    "\n",
    "\n",
    "animate_full_trace(tr)"
   ]
  },
  {
   "cell_type": "markdown",
   "id": "71",
   "metadata": {
    "lines_to_next_cell": 0
   },
   "source": [
    "## The data\n",
    "\n",
    "Let us generate some fixed synthetic motion data that, for pedagogical purposes, we will work with as if it were the actual path of the robot.  We will generate two versions, one each with low or high motion deviation."
   ]
  },
  {
   "cell_type": "code",
   "execution_count": null,
   "id": "72",
   "metadata": {
    "lines_to_next_cell": 0
   },
   "outputs": [],
   "source": [
    "motion_settings_low_deviation = {\n",
    "    \"p_noise\": 0.05,\n",
    "    \"hd_noise\": (1 / 10.0) * 2 * jnp.pi / 360,\n",
    "}\n",
    "key, k_low, k_high = jax.random.split(key, 3)\n",
    "\n",
    "trace_low_deviation = full_model.simulate(k_low, (motion_settings_low_deviation,))\n",
    "motion_settings_high_deviation = {\"p_noise\": 0.25, \"hd_noise\": 2 * jnp.pi / 360}\n",
    "trace_high_deviation = full_model.simulate(k_high, (motion_settings_high_deviation,))\n",
    "\n",
    "animate_full_trace(trace_low_deviation)"
   ]
  },
  {
   "cell_type": "code",
   "execution_count": null,
   "id": "73",
   "metadata": {
    "lines_to_next_cell": 0
   },
   "outputs": [],
   "source": [
    "# TODO: next task is to create a side-by-side animation of the low and high deviation paths.\n",
    "\n",
    "animate_full_trace(trace_high_deviation)"
   ]
  },
  {
   "cell_type": "markdown",
   "id": "74",
   "metadata": {
    "lines_to_next_cell": 0
   },
   "source": [
    "Since we imagine these data as having been recorded from the real world, keep only their extracted data, *discarding* the traces that produced them."
   ]
  },
  {
   "cell_type": "code",
   "execution_count": null,
   "id": "75",
   "metadata": {},
   "outputs": [],
   "source": [
    "# These are what we hope to recover...\n",
    "path_low_deviation = get_path(trace_low_deviation)\n",
    "path_high_deviation = get_path(trace_high_deviation)\n",
    "\n",
    "# ...using these data.\n",
    "observations_low_deviation = get_sensors(trace_low_deviation)\n",
    "observations_high_deviation = get_sensors(trace_high_deviation)\n",
    "\n",
    "# Encode sensor readings into choice map.\n",
    "\n",
    "\n",
    "def constraint_from_sensors(readings):\n",
    "    angle_indices = jnp.arange(len(sensor_angles))\n",
    "    return jax.vmap(\n",
    "        lambda ix, v: C[\"steps\", ix, \"sensor\", angle_indices, \"distance\"].set(v)\n",
    "    )(jnp.arange(T), readings) + C[\"initial\", \"sensor\", angle_indices, \"distance\"].set(\n",
    "        readings[0]\n",
    "    )\n",
    "\n",
    "\n",
    "constraints_low_deviation = constraint_from_sensors(observations_low_deviation)\n",
    "constraints_high_deviation = constraint_from_sensors(observations_high_deviation)"
   ]
  },
  {
   "cell_type": "markdown",
   "id": "76",
   "metadata": {
    "lines_to_next_cell": 2
   },
   "source": [
    "We summarize the information available to the robot to determine its location. On the one hand, one has to produce a guess of the start pose plus some controls, which one might integrate to produce an idealized guess of path. On the other hand, one has the sensor data."
   ]
  },
  {
   "cell_type": "code",
   "execution_count": null,
   "id": "77",
   "metadata": {
    "lines_to_next_cell": 0
   },
   "outputs": [],
   "source": [
    "def animate_bare_sensors(path, plot_base=[]):\n",
    "    def frame(pose, readings1, readings2):\n",
    "        def plt(readings):\n",
    "            return Plot.new(\n",
    "                plot_base or Plot.domain([0, 20]),\n",
    "                plot_sensors(pose, readings),\n",
    "                {\"width\": 400, \"height\": 400},\n",
    "            )\n",
    "\n",
    "        return plt(readings1) & plt(readings2)\n",
    "\n",
    "    frames = [\n",
    "        frame(*scene)\n",
    "        for scene in zip(path, observations_low_deviation, observations_high_deviation)\n",
    "    ]\n",
    "    return Plot.Frames(frames, fps=2)\n",
    "\n",
    "\n",
    "animate_bare_sensors(itertools.repeat(world[\"center_point\"]))"
   ]
  },
  {
   "cell_type": "markdown",
   "id": "78",
   "metadata": {
    "lines_to_next_cell": 0
   },
   "source": [
    "## Inference\n",
    "### Why we need inference: in a picture\n",
    "\n",
    "The path obtained by integrating the controls serves as a proposal for the true path, but it is unsatisfactory, especially in the high motion deviation case. The picture gives an intuitive sense of the fit:"
   ]
  },
  {
   "cell_type": "code",
   "execution_count": null,
   "id": "79",
   "metadata": {
    "lines_to_next_cell": 0
   },
   "outputs": [],
   "source": [
    "animate_bare_sensors(path_integrated, world_plot)"
   ]
  },
  {
   "cell_type": "code",
   "execution_count": null,
   "id": "80",
   "metadata": {
    "lines_to_next_cell": 0
   },
   "outputs": [],
   "source": [
    "world_plot + plot_sensors(robot_inputs[\"start\"], observations_low_deviation[0])"
   ]
  },
  {
   "cell_type": "markdown",
   "id": "81",
   "metadata": {},
   "source": [
    "It would seem that the fit is reasonable in low motion deviation, but really breaks down in high motion deviation.\n",
    "\n",
    "We are not limited to visual judgments here: the model can quantitatively assess how good a fit the integrated path is for the data.  In order to do this, we detour to explain how to produce samples from our model that agree with the fixed observation data."
   ]
  },
  {
   "cell_type": "markdown",
   "id": "82",
   "metadata": {},
   "source": [
    "### Producing samples with constraints\n",
    "\n",
    "We have seen how `simulate` performs traced execution of a generative function: as the program runs, it draws stochastic choices from all required primitive distributions, and records them in a choice map.\n",
    "\n",
    "Given a choice map of *constraints* that declare fixed values of some of the primitive choices, the operation `importance` proposes traces of the generative function that are consistent with these constraints."
   ]
  },
  {
   "cell_type": "code",
   "execution_count": null,
   "id": "83",
   "metadata": {
    "lines_to_next_cell": 0
   },
   "outputs": [],
   "source": [
    "model_importance = jax.jit(full_model.importance)\n",
    "\n",
    "key, sub_key = jax.random.split(key)\n",
    "sample, log_weight = model_importance(\n",
    "    sub_key, constraints_low_deviation, (motion_settings_low_deviation,)\n",
    ")\n",
    "animate_full_trace(sample) | html(\"span.tc\", f\"log_weight: {log_weight}\")"
   ]
  },
  {
   "cell_type": "code",
   "execution_count": null,
   "id": "84",
   "metadata": {
    "lines_to_next_cell": 0
   },
   "outputs": [],
   "source": [
    "key, sub_key = jax.random.split(key)\n",
    "sample, log_weight = model_importance(\n",
    "    sub_key, constraints_high_deviation, (motion_settings_high_deviation,)\n",
    ")\n",
    "animate_full_trace(sample) | html(\"span.tc\", f\"log_weight: {log_weight}\")"
   ]
  },
  {
   "cell_type": "markdown",
   "id": "85",
   "metadata": {
    "lines_to_next_cell": 0
   },
   "source": [
    "A trace resulting from a call to `importance` is structurally indistinguishable from one drawn from `simulate`.  But there is a key situational difference: while `get_score` always returns the frequency with which `simulate` stochastically produces the trace, this value is **no longer equal to** the frequency with which the trace is stochastically produced by `importance`.  This is both true in an obvious and less relevant sense, as well as true in a more subtle and extremely germane sense.\n",
    "\n",
    "On the superficial level, since all traces produced by `importance` are consistent with the constraints, those traces that are inconsistent with the constraints do not occur at all, and in aggregate the traces that are consistent with the constraints are more common.\n",
    "\n",
    "More deeply and importantly, the stochastic choice of the *constraints* under a run of `simulate` might have any density, perhaps very low.  This constraints density contributes as always to the `get_score`, whereas it does not influence the frequency of producing this trace under `importance`.\n",
    "\n",
    "The ratio of the `get_score` of a trace to the probability density that `importance` would produce it with the given constraints, is called the *importance weight*.  For convenience, (the log of) this quantity is returned by `importance` along with the trace.\n",
    "\n",
    "We stress the basic invariant:\n",
    "$$\n",
    "\\text{get\\_score}(\\text{trace})\n",
    "=\n",
    "(\\text{weight from importance})\n",
    "\\cdot\n",
    "(\\text{frequency simulate creates this trace}).\n",
    "$$"
   ]
  },
  {
   "cell_type": "markdown",
   "id": "86",
   "metadata": {
    "lines_to_next_cell": 0
   },
   "source": [
    "The preceding comments apply to generative functions in wide generality.  We can say even more about our present examples, because further assumptions hold.\n",
    "1. There is no untraced randomness.  Given a full choice map for constraints, everything else is deterministic.  In particular, the importance weight is the `get_score`.\n",
    "2. The generative function was constructed using GenJAX's DSL and primitive distributions.  Ancestral sampling; `importance` with empty constraints reduces to `simulate` with importance weight $1$.\n",
    "3. Combined, the importance weight is directly computed as the `project` of the trace upon the choice map addresses that were constrained in the call to `importance`.\n",
    "\n",
    "  In our running example, the projection in question is $\\prod_{t=0}^T P_\\text{sensor}(o_t)$."
   ]
  },
  {
   "cell_type": "code",
   "execution_count": null,
   "id": "87",
   "metadata": {},
   "outputs": [],
   "source": [
    "# TODO: this calculation doesn't work in GenJAX currently\n",
    "# log_weight - project(trace, select([prefix_address(i, :sensor) for i in 1:(T+1)]...))"
   ]
  },
  {
   "cell_type": "markdown",
   "id": "88",
   "metadata": {},
   "source": [
    "### Why we need inference: in numbers\n",
    "\n",
    "We return to how the model offers a numerical benchmark for how good a fit the integrated path is.\n",
    "\n",
    "In words, the data are incongruously unlikely for the integrated path.  The (log) density of the measurement data, given the integrated path..."
   ]
  },
  {
   "cell_type": "code",
   "execution_count": null,
   "id": "89",
   "metadata": {
    "lines_to_next_cell": 0
   },
   "outputs": [],
   "source": [
    "def constraint_from_path(path):\n",
    "    c_ps = jax.vmap(lambda ix, p: C[\"steps\", ix, \"pose\", \"p\"].set(p))(\n",
    "        jnp.arange(T), path.p\n",
    "    )\n",
    "\n",
    "    c_hds = jax.vmap(lambda ix, hd: C[\"steps\", ix, \"pose\", \"hd\"].set(hd))(\n",
    "        jnp.arange(T), path.hd\n",
    "    )\n",
    "    return c_ps + c_hds  # + c_p + c_hd\n",
    "\n",
    "\n",
    "constraints_path_integrated = constraint_from_path(path_integrated)\n",
    "constraints_path_integrated_observations_low_deviation = (\n",
    "    constraints_path_integrated ^ constraints_low_deviation\n",
    ")\n",
    "constraints_path_integrated_observations_high_deviation = (\n",
    "    constraints_path_integrated ^ constraints_high_deviation\n",
    ")\n",
    "\n",
    "key, sub_key = jax.random.split(key)\n",
    "trace_path_integrated_observations_low_deviation, w_low = model_importance(\n",
    "    sub_key,\n",
    "    constraints_path_integrated_observations_low_deviation,\n",
    "    (motion_settings_low_deviation,),\n",
    ")\n",
    "key, sub_key = jax.random.split(key)\n",
    "trace_path_integrated_observations_high_deviation, w_high = model_importance(\n",
    "    sub_key,\n",
    "    constraints_path_integrated_observations_high_deviation,\n",
    "    (motion_settings_high_deviation,),\n",
    ")\n",
    "\n",
    "w_low, w_high\n",
    "# TODO: Jay then does two projections to compare the log-weights of these two things,\n",
    "# in order to show that we can be quantitative about the quality of the paths generated\n",
    "# by the two models. Unfortunately we can't, and so we should raise the priority of the\n",
    "# blocking bug"
   ]
  },
  {
   "cell_type": "code",
   "execution_count": null,
   "id": "90",
   "metadata": {},
   "outputs": [],
   "source": [
    "Plot.Row(\n",
    "    *[\n",
    "        (\n",
    "            html(\"div.f3.b.tc\", title)\n",
    "            | animate_full_trace(trace, frame_key=\"frame\")\n",
    "            | html(\"span.tc\", f\"score: {score:,.2f}\")\n",
    "        )\n",
    "        for (title, trace, motion_settings, score) in [\n",
    "            [\n",
    "                \"Low deviation\",\n",
    "                trace_path_integrated_observations_low_deviation,\n",
    "                motion_settings_low_deviation,\n",
    "                w_low,\n",
    "            ],\n",
    "            [\n",
    "                \"High deviation\",\n",
    "                trace_path_integrated_observations_high_deviation,\n",
    "                motion_settings_high_deviation,\n",
    "                w_high,\n",
    "            ],\n",
    "        ]\n",
    "    ]\n",
    ") | Plot.Slider(\"frame\", 0, T, fps=2)"
   ]
  },
  {
   "cell_type": "markdown",
   "id": "91",
   "metadata": {
    "lines_to_next_cell": 2
   },
   "source": [
    "...more closely resembles the density of these data back-fitted onto any other typical (random) paths of the model..."
   ]
  },
  {
   "cell_type": "code",
   "execution_count": null,
   "id": "92",
   "metadata": {},
   "outputs": [],
   "source": [
    "N_samples = 200\n",
    "\n",
    "key, sub_key = jax.random.split(key)\n",
    "\n",
    "traces_generated_low_deviation, low_weights = jax.vmap(\n",
    "    model_importance, in_axes=(0, None, None)\n",
    ")(\n",
    "    jax.random.split(sub_key, N_samples),\n",
    "    constraints_low_deviation,\n",
    "    (motion_settings_low_deviation,),\n",
    ")\n",
    "\n",
    "traces_generated_high_deviation, high_weights = jax.vmap(\n",
    "    model_importance, in_axes=(0, None, None)\n",
    ")(\n",
    "    jax.random.split(sub_key, N_samples),\n",
    "    constraints_high_deviation,\n",
    "    (motion_settings_high_deviation,),\n",
    ")\n",
    "\n",
    "# low_weights, high_weights\n",
    "# two histograms"
   ]
  },
  {
   "cell_type": "code",
   "execution_count": null,
   "id": "93",
   "metadata": {},
   "outputs": [],
   "source": [
    "low_deviation_paths = jax.vmap(get_path)(traces_generated_low_deviation)\n",
    "high_deviation_paths = jax.vmap(get_path)(traces_generated_high_deviation)"
   ]
  },
  {
   "cell_type": "code",
   "execution_count": null,
   "id": "94",
   "metadata": {
    "lines_to_next_cell": 0
   },
   "outputs": [],
   "source": [
    "Plot.new(\n",
    "    world_plot,\n",
    "    [\n",
    "        poses_to_plots(pose, fill=\"blue\", opacity=0.1)\n",
    "        for pose in high_deviation_paths[:20]\n",
    "    ],\n",
    "    [\n",
    "        poses_to_plots(pose, fill=\"green\", opacity=0.1)\n",
    "        for pose in low_deviation_paths[:20]\n",
    "    ],\n",
    ")"
   ]
  },
  {
   "cell_type": "markdown",
   "id": "95",
   "metadata": {},
   "source": [
    "## Generic strategies for inference\n",
    "\n",
    "We now spell out some generic strategies for conditioning the ouputs of a model towards some observed data.  The word \"generic\" indicates that they make no special intelligent use of the model structure, and their convergence is guaranteed by theorems of a similar nature.  In terms to be defined shortly, they simply take a pair $(Q,f)$ of a proposal and a weight function that implement importance sampling with target $P$.\n",
    "\n",
    "There is no free lunch in this game: generic inference recipies are inefficient, for example, converging very slowly or needing vast counts of particles, especially in high-dimensional settings.  One of the root problems is that proposals $Q$ may provide arbitrarily bad samples relative to our target $P$; if $Q$ still supports all samples of $P$ with microscopic but nonzero density, then the generic algorithm will converge in the limit, however astronomically slowly.\n",
    "\n",
    "Rather, efficiency will become possible when we do the *opposite* of generic: exploit what we actually know about the problem in our design of the inference strategy to propose better traces towards our target.  Gen's aim is to provide the right entry points to enact this exploitation."
   ]
  },
  {
   "cell_type": "markdown",
   "id": "96",
   "metadata": {},
   "source": [
    "### The posterior distribution and importance sampling\n",
    "\n",
    "Mathematically, the passage from the prior to the posterior is the operation of conditioning distributions.\n",
    "\n",
    "Intuitively, the conditional distribution $\\text{full}(\\cdot | o_{0:T})$ is just the restriction of the joint distribution $\\text{full}(z_{0:T}, o_{0:T})$ to where the parameter $o_{0:T}$ is constant, letting $z_{0:T}$ continue to vary.  This restriction no longer has total density equal to $1$, so we must renormalize it.  The normalizing constant must be\n",
    "$$\n",
    "P_\\text{marginal}(o_{0:T})\n",
    ":= \\int P_\\text{full}(Z_{0:T}, o_{0:T}) \\, dZ_{0:T}\n",
    " = \\mathbf{E}_{Z_{0:T} \\sim \\text{path}}\\big[P_\\text{full}(Z_{0:T}, o_{0:T})\\big].\n",
    "$$\n",
    "By Fubini's Theorem, this function of $o_{0:T}$ is the density of a probability distribution over observations $o_{0:T}$, called the *marginal distribution*; but we will often have $o_{0:T}$ fixed, and consider it a constant.  Then, finally, the *conditional distribution* $\\text{full}(\\cdot | o_{0:T})$ is defined to have the normalized density\n",
    "$$\n",
    "P_\\text{full}(z_{0:T} | o_{0:T}) := \\frac{P_\\text{full}(z_{0:T}, o_{0:T})}{P_\\text{marginal}(o_{0:T})}.\n",
    "$$\n",
    "\n",
    "The goal of inference is to produce samples $\\text{trace}_{0:T}$ distributed (approximately) according to $\\text{full}(\\cdot | o_{0:T})$.  The most immediately evident problem with doing inference is that the quantity $P_\\text{marginal}(o_{0:T})$ is intractable!"
   ]
  },
  {
   "cell_type": "markdown",
   "id": "97",
   "metadata": {},
   "source": [
    "Define the function $\\hat f(z_{0:T})$ of sample values $z_{0:T}$ to be the ratio of probability densities between the posterior distribution $\\text{full}(\\cdot | o_{0:T})$ that we wish to sample from, and the prior distribution $\\text{path}$ that we are presently able to produce samples from.  Manipulating it à la Bayes's Rule gives:\n",
    "$$\n",
    "\\hat f(z_{0:T})\n",
    ":=\n",
    "\\frac{P_\\text{full}(z_{0:T} | o_{0:T})}{P_\\text{path}(z_{0:T})}\n",
    "=\n",
    "\\frac{P_\\text{full}(z_{0:T}, o_{0:T})}{P_\\text{marginal}(o_{0:T}) \\cdot P_\\text{path}(z_{0:T})}\n",
    "=\n",
    "\\frac{\\prod_{t=0}^T P_\\text{sensor}(o_t)}{P_\\text{marginal}(o_{0:T})}.\n",
    "$$\n",
    "Noting that the intractable quantity\n",
    "$$\n",
    "Z := P_\\text{marginal}(o_{0:T})\n",
    "$$\n",
    "is constant in $z_{0:T}$, we define the explicitly computable quantity\n",
    "$$\n",
    "f(z_{0:T}) := Z \\cdot \\hat f(z_{0:T}) = \\prod\\nolimits_{t=0}^T P_\\text{sensor}(o_t).\n",
    "$$\n",
    "The right hand side has been written sloppily, but we remind the reader that $P_\\text{sensor}(o_t)$ is a product of densities of normal distributions that *does depend* on $z_t$ as well as \"sensor\" and \"world\" parameters.\n",
    "\n",
    "Compare to our previous description of calling `importance` on `full_model` with the observations $o_{0:T}$ as constraints: it produces a trace of the form $(z_{0:T}, o_{0:T})$ where $z_{0:T} \\sim \\text{path}$ has been drawn from $\\text{path}$, together with the weight equal to none other than this $f(z_{0:T})$."
   ]
  },
  {
   "cell_type": "markdown",
   "id": "98",
   "metadata": {},
   "source": [
    "This reasoning involving `importance` is indicative of the general scenario with conditioning, and fits into the following shape.\n",
    "\n",
    "We have on hand two distributions, a *target* $P$ from which we would like to (approximately) generate samples, and a *proposal* $Q$ from which we are presently able to generate samples.  We must assume that the proposal is a suitable substitute for the target, in the sense that every possible event under $P$ occurs under $Q$ (mathematically, $P$ is absolutely continuous with respect to $Q$).\n",
    "\n",
    "Under these hypotheses, there is a well-defined density ratio function $\\hat f$ between $P$ and $Q$ (mathematically, the Radon–Nikodym derivative).  If $z$ is a sample drawn from $Q$, then $\\hat w = \\hat f(z)$ is how much more or less likely $z$ would have been drawn from $P$.  We only require that we are able to compute the *unnormalized* density ratio, that is, some function of the form $f = Z \\cdot \\hat f$ where $Z > 0$ is constant.\n",
    "\n",
    "The pair $(Q,f)$ is said to implement *importance sampling* for $P$, and the values of $f$ are called *importance weights*.  Generic inference attempts to use knowledge of $f$ to correct for the difference in behavior between $P$ and $Q$, and thereby use $Q$ to produce samples from (approximately) $P$.\n",
    "\n",
    "So in our running example, the target $P$ is the posterior distribution on paths $\\text{full}(\\cdot | o_{0:T})$, the proposal $Q$ is the path prior $\\text{path}$, and the importance weight $f$ is the product of the sensor model densities.  We seek a computational model of the first; the second and third are computationally modeled by calling `importance` on `full_model` constrained by the observations $o_{0:T}$.  (The computation of the second, on its own, simplifies to `path_prior`.)\n"
   ]
  },
  {
   "cell_type": "markdown",
   "id": "99",
   "metadata": {},
   "source": [
    "\n",
    "### TODO: TBD: rejection sampling. We proceed directly to SIR."
   ]
  },
  {
   "cell_type": "markdown",
   "id": "100",
   "metadata": {},
   "source": [
    "### Sampling / importance resampling\n",
    "\n",
    "We turn to inference strategies that require only our proposal $Q$ and unnormalized weight function $f$ for the target $P$, *without* forcing us to wrangle any intractable integrals or upper bounds.\n",
    "\n",
    "Suppose we are given a list of nonnegative numbers, not all zero: $w^1, w^2, \\ldots, w^N$.  To *normalize* the numbers means computing $\\hat w^i := w^i / \\sum_{j=1}^N w^j$.  The normalized list $\\hat w^1, \\hat w^2, \\ldots, \\hat w^N$ determines a *categorical distribution* on the indices $1, \\ldots, N$, wherein the index $i$ occurs with probability $\\hat w^i$.\n",
    "Note that for any constant $Z > 0$, the scaled list $Zw^1, Zw^2, \\ldots, Zw^N$ leads to the same normalized $\\hat w^i$ as well as the same categorical distribution.\n",
    "\n",
    "When some list of data $z^1, z^2, \\ldots, z^N$ have been associated with these respective numbers $w^1, w^2, \\ldots, w^N$, then to *importance **re**sample* $M$ values from these data according to these weights means to independently sample indices $a^1, a^2, \\ldots, a^M \\sim \\text{categorical}([\\hat w^1, \\hat w^2, \\ldots, \\hat w^N])$ and return the new list of data $z^{a^1}, z^{a^2}, \\ldots, z^{a^M}$.  Compare to the function `resample` implemented in the code box below.\n",
    "\n",
    "The *sampling / importance resampling* (SIR) strategy for inference runs as follows.  Let counts $N > 0$ and $M > 0$ be given.\n",
    "1. Importance sample:  Independently sample $N$ data $z^1, z^2, \\ldots, z^N$ from the proposal $Q$, called *particles*.  Compute also their *importance weights* $w^i := f(z^i)$ for $i = 1, \\ldots, N$.\n",
    "2. Importance resample:  Independently sample $M$ indices $a^1, a^2, \\ldots, a^M \\sim \\text{categorical}([\\hat w^1, \\hat w^2, \\ldots, \\hat w^N])$, where $\\hat w^i = w^i / \\sum_{j=1}^N w^j$, and return $z^{a^1}, z^{a^2}, \\ldots, z^{a^M}$. These sampled particles all inherit the *average weight* $\\sum_{j=1}^N w^j / N$.\n",
    "\n",
    "As $N \\to \\infty$ with $M$ fixed, the samples produced by this algorithm converge to $M$ independent samples drawn from the target $P$.  This strategy is computationally an improve\n",
    "ment over rejection sampling: intead of indefinitely constructing and rejecting samples, we can guarantee to use at least some of them after a fixed time, and we are using the best guesses among these."
   ]
  },
  {
   "cell_type": "code",
   "execution_count": null,
   "id": "101",
   "metadata": {},
   "outputs": [],
   "source": [
    "categorical_sampler = jax.jit(genjax.categorical.sampler)\n",
    "\n",
    "\n",
    "def resample(\n",
    "    key: PRNGKey, constraints: genjax.ChoiceMap, motion_settings, N: int, K: int\n",
    "):\n",
    "    key1, key2 = jax.random.split(key)\n",
    "    samples, log_weights = jax.vmap(model_importance, in_axes=(0, None, None))(\n",
    "        jax.random.split(key1, N * K), constraints, (motion_settings,)\n",
    "    )\n",
    "    winners = jax.vmap(categorical_sampler)(\n",
    "        jax.random.split(key2, K), jnp.reshape(log_weights, (K, N))\n",
    "    )\n",
    "    # indices returned are relative to the start of the K-segment from which they were drawn.\n",
    "    # globalize the indices by adding back the index of the start of each segment.\n",
    "    winners += jnp.arange(0, N * K, N)\n",
    "    selected = jax.tree.map(lambda x: x[winners], samples)\n",
    "    return selected\n",
    "\n",
    "\n",
    "key, sub_key = jax.random.split(key)\n",
    "low_posterior = resample(\n",
    "    sub_key, constraints_low_deviation, motion_settings_low_deviation, 2000, 20\n",
    ")\n",
    "key, sub_key = jax.random.split(key)\n",
    "high_posterior = resample(\n",
    "    sub_key, constraints_high_deviation, motion_settings_high_deviation, 2000, 20\n",
    ")"
   ]
  },
  {
   "cell_type": "code",
   "execution_count": null,
   "id": "102",
   "metadata": {
    "lines_to_next_cell": 0
   },
   "outputs": [],
   "source": [
    "def animate_path_as_line(path, **options):\n",
    "    x_coords = path.p[:, 0]\n",
    "    y_coords = path.p[:, 1]\n",
    "    return Plot.line({\"x\": x_coords, \"y\": y_coords}, {\"curve\": \"linear\", **options})\n",
    "\n",
    "\n",
    "#\n",
    "(\n",
    "    world_plot\n",
    "    + [\n",
    "        animate_path_as_line(path, opacity=0.2, strokeWidth=2, stroke=\"green\")\n",
    "        for path in jax.vmap(get_path)(low_posterior)\n",
    "    ]\n",
    "    + [\n",
    "        animate_path_as_line(path, opacity=0.2, strokeWidth=2, stroke=\"blue\")\n",
    "        for path in jax.vmap(get_path)(high_posterior)\n",
    "    ]\n",
    "    + poses_to_plots(\n",
    "        path_low_deviation, fill=Plot.constantly(\"low deviation path\"), opacity=0.2\n",
    "    )\n",
    "    + poses_to_plots(\n",
    "        path_high_deviation, fill=Plot.constantly(\"high deviation path\"), opacity=0.2\n",
    "    )\n",
    "    + poses_to_plots(\n",
    "        path_integrated, fill=Plot.constantly(\"integrated path\"), opacity=0.2\n",
    "    )\n",
    "    + Plot.color_map(\n",
    "        {\n",
    "            \"low deviation path\": \"green\",\n",
    "            \"high deviation path\": \"blue\",\n",
    "            \"integrated path\": \"black\",\n",
    "        }\n",
    "    )\n",
    ")"
   ]
  },
  {
   "cell_type": "markdown",
   "id": "103",
   "metadata": {
    "lines_to_next_cell": 2
   },
   "source": [
    "Let's pause a moment to examine this chart. If the robot had no sensors, it would have no alternative but to estimate its position by integrating the control inputs to produce the integrated path in gray. In the low deviation setting, Gen has helped the robot to see that about halfway through its journey, noise in the control-effector relationship has caused the robot to deviate to the south slightly, and *the sensor data combined with importance sampling is enough* to give accurate results in the low deviation setting.\n",
    "But in the high deviation setting, the loose nature of the paths in the blue posterior indicate that the robot has not discovered its true position by using importance sampling with the noisy sensor data. In the high deviation setting, more refined inference technique will be required.\n",
    "\n",
    "Let's approach the problem step by step instead of trying to infer the whole path.\n",
    "To get started we'll work with the initial point, and then improve it. Once that's done,\n",
    "we can chain together such improved moves to hopefully get a better inference of the\n",
    "actual path.\n",
    "\n",
    "One thing we'll need is a path to improve. We can select one of the importance samples we generated\n",
    "earlier."
   ]
  },
  {
   "cell_type": "code",
   "execution_count": null,
   "id": "104",
   "metadata": {},
   "outputs": [],
   "source": [
    "def select_by_weight(key: PRNGKey, weights: FloatArray, things):\n",
    "    chosen = jax.random.categorical(key, weights)\n",
    "    return jax.tree.map(lambda v: v[chosen], things)"
   ]
  },
  {
   "cell_type": "markdown",
   "id": "105",
   "metadata": {},
   "source": [
    "Select an importance sample by weight in both the low and high deviation settings. It will be handy\n",
    "to have one path to work with to test our improvements."
   ]
  },
  {
   "cell_type": "code",
   "execution_count": null,
   "id": "106",
   "metadata": {},
   "outputs": [],
   "source": [
    "key, k1, k2 = jax.random.split(key, 3)\n",
    "low_deviation_path = select_by_weight(k1, low_weights, low_deviation_paths)\n",
    "high_deviation_path = select_by_weight(k2, high_weights, high_deviation_paths)"
   ]
  },
  {
   "cell_type": "markdown",
   "id": "107",
   "metadata": {
    "lines_to_next_cell": 2
   },
   "source": [
    "Create a choicemap that will enforce the given sensor observation"
   ]
  },
  {
   "cell_type": "code",
   "execution_count": null,
   "id": "108",
   "metadata": {},
   "outputs": [],
   "source": [
    "def observation_to_choicemap(observation, pose=None):\n",
    "    sensor_cm = C[\"sensor\", jnp.arange(len(observation)), \"distance\"].set(observation)\n",
    "    pose_cm = (\n",
    "        C[\"pose\", \"p\"].set(pose.p) + C[\"pose\", \"hd\"].set(pose.hd)\n",
    "        if pose is not None\n",
    "        else C.n()\n",
    "    )\n",
    "    return sensor_cm + pose_cm"
   ]
  },
  {
   "cell_type": "markdown",
   "id": "109",
   "metadata": {
    "lines_to_next_cell": 0
   },
   "source": [
    "The first thing we'll try is a Boltzmann update: generate a cloud of nearby points\n",
    "using the generative function we wrote, and weightedly select a replacement from that.\n",
    "First, let's generate the cloud and visualize it."
   ]
  },
  {
   "cell_type": "code",
   "execution_count": null,
   "id": "110",
   "metadata": {},
   "outputs": [],
   "source": [
    "def boltzmann_sample(key: PRNGKey, N: int, gf, observation):\n",
    "    return jax.vmap(gf.importance, in_axes=(0, None, None))(\n",
    "        jax.random.split(key, N), observation_to_choicemap(observation), ()\n",
    "    )\n",
    "\n",
    "\n",
    "def small_pose_plot(p: Pose, **opts):\n",
    "    \"\"\"This variant of pose_plot will is better when we're zoomed in on the vicinity of one pose.\n",
    "    TODO: consider scaling r and wing_length based on the size of the plot domain.\"\"\"\n",
    "    opts = {\"r\": 0.001} | opts\n",
    "    return pose_plot(p, wing_length=0.006, **opts)\n",
    "\n",
    "\n",
    "def weighted_small_pose_plot(proposal, truth, poses, ws):\n",
    "    lse_ws = jnp.log(jnp.sum(jnp.exp(ws)))\n",
    "    scaled_ws = jnp.exp(ws - lse_ws)\n",
    "    max_scaled_w: FloatArray = jnp.max(scaled_ws)\n",
    "    scaled_ws /= max_scaled_w\n",
    "    # the following hack \"boosts\" lower scores a bit, to give us more visibility into\n",
    "    # the density of the nearby cloud. Aesthetically, I found too many points were\n",
    "    # invisible without some adjustment, since the score distribution is concentrated\n",
    "    # closely around 1.0\n",
    "    scaled_ws = scaled_ws**0.3\n",
    "    return Plot.new(\n",
    "        [small_pose_plot(p, fill=w) for p, w in zip(poses, scaled_ws)]\n",
    "        + small_pose_plot(proposal, r=0.003, fill=\"red\")\n",
    "        + small_pose_plot(truth, r=0.003, fill=\"green\")\n",
    "    ) + {\n",
    "        \"color\": {\"type\": \"linear\", \"scheme\": \"OrRd\"},\n",
    "        \"height\": 400,\n",
    "        \"width\": 400,\n",
    "        \"aspectRatio\": 1,\n",
    "    }"
   ]
  },
  {
   "cell_type": "markdown",
   "id": "111",
   "metadata": {
    "lines_to_next_cell": 0
   },
   "source": [
    "For the first step we use the full_model_initial generative function. Subsequent steps\n",
    "will use the full_model_kernel. In the case of the initial step, we have:\n",
    "- the true initial position of the robot in <span style=\"color:green;\">green</span>\n",
    "- the robot's belief about its initial position in <span style=\"color:red;\">red</span>\n",
    "- a cloud of possible updates conditioned on the sensor data in shades of <span style=\"color:purple;\">purple</span>"
   ]
  },
  {
   "cell_type": "code",
   "execution_count": null,
   "id": "112",
   "metadata": {
    "lines_to_next_cell": 0
   },
   "outputs": [],
   "source": [
    "key, sub_key = jax.random.split(key)\n",
    "bs = boltzmann_sample(\n",
    "    sub_key,\n",
    "    1000,\n",
    "    full_model_kernel(\n",
    "        motion_settings_low_deviation,\n",
    "        robot_inputs[\"start\"],\n",
    "        robot_inputs[\"controls\"][0],\n",
    "    ),\n",
    "    observations_low_deviation[0],\n",
    ")"
   ]
  },
  {
   "cell_type": "code",
   "execution_count": null,
   "id": "113",
   "metadata": {},
   "outputs": [],
   "source": [
    "weighted_small_pose_plot(\n",
    "    path_low_deviation[0], robot_inputs[\"start\"], bs[0].get_retval()[0], bs[1]\n",
    ")"
   ]
  },
  {
   "cell_type": "markdown",
   "id": "114",
   "metadata": {
    "lines_to_next_cell": 0
   },
   "source": [
    "Develop a function which will produce a grid of evenly spaced nearby poses given\n",
    "an initial pose. $n$ is the number of steps to take in each cardinal direction\n",
    "(up/down, left/right and changes in heading). For example, if you say $n = 2$, there\n",
    "will be a $5\\times 5$ grid of positions with the original pose in the center, and 5 layers\n",
    "of this type, each with different heading deltas (including zero), for a total of\n",
    "$125 = 5^3$ alternate poses."
   ]
  },
  {
   "cell_type": "code",
   "execution_count": null,
   "id": "115",
   "metadata": {
    "lines_to_next_cell": 2
   },
   "outputs": [],
   "source": [
    "def grid_of_nearby_poses(p, n, motion_settings):\n",
    "    indices = jnp.arange(-n, n + 1)\n",
    "    n_indices = len(indices)\n",
    "    point_deltas = indices * 2 * motion_settings[\"p_noise\"] / n\n",
    "    hd_deltas = indices * 2 * motion_settings[\"hd_noise\"] / n\n",
    "    xs = jnp.repeat(point_deltas, n_indices)\n",
    "    ys = jnp.tile(point_deltas, n_indices)\n",
    "    points = jnp.repeat(jnp.column_stack((xs, ys)), n_indices, axis=0)\n",
    "    headings = jnp.tile(hd_deltas, n_indices * n_indices)\n",
    "    return Pose(p.p + points, p.hd + headings)"
   ]
  },
  {
   "cell_type": "code",
   "execution_count": null,
   "id": "116",
   "metadata": {},
   "outputs": [],
   "source": [
    "def grid_sample(gf, pose_grid, observations):\n",
    "    scores, _retvals = jax.vmap(\n",
    "        lambda pose: gf.assess(observation_to_choicemap(observations, pose), ())\n",
    "    )(pose_grid)\n",
    "    return scores"
   ]
  },
  {
   "cell_type": "code",
   "execution_count": null,
   "id": "117",
   "metadata": {},
   "outputs": [],
   "source": [
    "# Our grid of nearby poses is actually a cube when we take into consideration the\n",
    "# heading deltas. In order to get a 2d density to visualize, we flatten the cube by\n",
    "# taking the \"best\" of the headings by score at each point. (Note: for the inference\n",
    "# that follows, we will work with the full cube).\n",
    "def flatten_pose_cube(pose_grid, cube_step_size, scores):\n",
    "    n_indices = 2 * cube_step_size + 1\n",
    "    best_heading_indices = jnp.argmax(\n",
    "        scores.reshape(n_indices * n_indices, n_indices), axis=1\n",
    "    )\n",
    "    # those were block relative; linearize them by adding back block indices\n",
    "    bs = best_heading_indices + jnp.arange(0, n_indices**3, n_indices)\n",
    "    return Pose(pose_grid.p[bs], pose_grid.hd[bs]), scores[bs]"
   ]
  },
  {
   "cell_type": "markdown",
   "id": "118",
   "metadata": {
    "lines_to_next_cell": 0
   },
   "source": [
    "Prepare a plot showing the density of nearby improvements available using the grid\n",
    "search and importance sampling techniques."
   ]
  },
  {
   "cell_type": "code",
   "execution_count": null,
   "id": "119",
   "metadata": {
    "lines_to_next_cell": 2
   },
   "outputs": [],
   "source": [
    "# Test our code for visualizing the Boltzmann and grid searches at the initial pose.\n",
    "def initial_pose_chart(key):\n",
    "    cube_step_size = 6\n",
    "    pose_grid = grid_of_nearby_poses(\n",
    "        path_low_deviation[0], cube_step_size, motion_settings_low_deviation\n",
    "    )\n",
    "    score_grid = grid_sample(\n",
    "        full_model_kernel(\n",
    "            motion_settings_low_deviation,\n",
    "            robot_inputs[\"start\"],\n",
    "            robot_inputs[\"controls\"][0],\n",
    "        ),\n",
    "        pose_grid,\n",
    "        observations_low_deviation[0],\n",
    "    )\n",
    "    pose_plane, score_plane = flatten_pose_cube(pose_grid, cube_step_size, score_grid)\n",
    "    return weighted_small_pose_plot(\n",
    "        path_low_deviation[0], robot_inputs[\"start\"], pose_plane, score_plane\n",
    "    ) & weighted_small_pose_plot(\n",
    "        path_low_deviation[0], robot_inputs[\"start\"], bs[0].get_retval()[0], bs[1]\n",
    "    )\n",
    "\n",
    "\n",
    "key, sub_key = jax.random.split(key)\n",
    "initial_pose_chart(sub_key)"
   ]
  },
  {
   "cell_type": "code",
   "execution_count": null,
   "id": "120",
   "metadata": {},
   "outputs": [],
   "source": [
    "# See if this works for other points in the path\n",
    "\n",
    "\n",
    "def improvements_at_step(key, path, k):\n",
    "    gf = full_model_kernel(\n",
    "        motion_settings_low_deviation, path[k - 1], robot_inputs[\"controls\"][k - 1]\n",
    "    )\n",
    "    cube_step_size = 6\n",
    "    bs = boltzmann_sample(k1, 500, gf, observations_low_deviation[k])\n",
    "    print(\n",
    "        f'from {path[k-1]}, step {robot_inputs['controls'][k-1]}, truth {path_low_deviation[k]}, ps {bs[0].get_retval()[0]}'\n",
    "    )\n",
    "    p1 = weighted_small_pose_plot(\n",
    "        path[k], path_low_deviation[k], bs[0].get_retval()[0], bs[1]\n",
    "    )\n",
    "    pose_grid = grid_of_nearby_poses(\n",
    "        path[k], cube_step_size, motion_settings_low_deviation\n",
    "    )\n",
    "    score_grid = grid_sample(gf, pose_grid, observations_low_deviation[k])\n",
    "    pose_plane, score_plane = flatten_pose_cube(pose_grid, cube_step_size, score_grid)\n",
    "    print(f\"score_plane {score_plane}\")\n",
    "    p2 = weighted_small_pose_plot(\n",
    "        path[k], path_low_deviation[k], pose_plane, score_plane\n",
    "    )\n",
    "    return p1 & p2\n",
    "\n",
    "\n",
    "key, sub_key = jax.random.split(key)\n",
    "improvements_at_step(sub_key, low_deviation_path, 5)"
   ]
  },
  {
   "cell_type": "code",
   "execution_count": null,
   "id": "121",
   "metadata": {},
   "outputs": [],
   "source": [
    "# Animation of the above\n",
    "key, *sub_keys = jax.random.split(key, 5)\n",
    "Plot.Frames(\n",
    "    [\n",
    "        improvements_at_step(k, low_deviation_path, i + 1)\n",
    "        for i, k in enumerate(sub_keys)\n",
    "    ],\n",
    "    fps=2,\n",
    ")"
   ]
  },
  {
   "cell_type": "markdown",
   "id": "122",
   "metadata": {
    "lines_to_next_cell": 2
   },
   "source": [
    "Now let's try doing the whole path.  We want to produce something that is ultimately\n",
    "scan-compatible, so it should have the form state -> update -> new_state. The state\n",
    "is obviously the pose; the update will include the sensor readings at the current\n",
    "position and the control input for the next step.\n",
    "\n",
    "Step 1. retire assess_model and use full_model_kernel in both bz and grid improvers.\n",
    "Step 2. add the [pose,weight] of `pose` to the vector sampled by select_by_weight in the bz case\n",
    "Step 3. How is the weight computed for `pose` ?\n",
    "        what we have now + correction term\n",
    "        pose.weight = full_model_kernel.assess(p, (cm,))"
   ]
  },
  {
   "cell_type": "code",
   "execution_count": null,
   "id": "123",
   "metadata": {},
   "outputs": [],
   "source": [
    "def improved_path(\n",
    "    mode: str, key: PRNGKey, motion_settings: dict, observations: FloatArray\n",
    "):\n",
    "    def boltzmann_step(k: PRNGKey, gf, _center_pose, observation):\n",
    "        k1, k2 = jax.random.split(k, 2)\n",
    "        trs, ws = boltzmann_sample(k1, 1000, gf, observation)\n",
    "        return ws, trs.get_retval()[0]\n",
    "\n",
    "    def grid_search_step(k: PRNGKey, gf, center_pose, observation):\n",
    "        pose_grid = grid_of_nearby_poses(center_pose, 15, motion_settings)\n",
    "        nearby_weights = grid_sample(gf, pose_grid, observation)\n",
    "        return nearby_weights, pose_grid\n",
    "\n",
    "    def improved_step(state, update):\n",
    "        observation, control, key = update\n",
    "        gf = full_model_kernel(motion_settings, state, control)\n",
    "        k1, k2, k3 = jax.random.split(key, 3)\n",
    "        # First, just run the model.\n",
    "        tr = gf.simulate(k1, ())\n",
    "        new_pose = tr.get_retval()[0]\n",
    "        improver = {\"grid\": grid_search_step, \"boltzmann\": boltzmann_step}[mode]\n",
    "        # Run the improver, and add the candidate point to the list of weights and\n",
    "        # return values, to create the possibility of accepting the initial proposal\n",
    "        # as well as any of the improvement candidates, as Bayesian inference requires\n",
    "        weights, poses = improver(k2, gf, new_pose, observation)\n",
    "        # weights = jnp.append(weights, tr.get_score())\n",
    "        # poses = Pose(jnp.vstack(poses.p, new_pose.p), jnp.append(poses.hd, new_pose.hd))\n",
    "        chosen_pose = select_by_weight(k3, weights, poses)\n",
    "        return chosen_pose, chosen_pose\n",
    "\n",
    "    # We have one fewer control than step, since no step got us to the initial position.\n",
    "    # Our scan step starts at the initial step and applies a control input each time.\n",
    "    # To make things balance, we need to add a zero step to the end of the control input\n",
    "    # array, so that when we arrive at the final step, no more control input is given.\n",
    "    controls = robot_inputs[\"controls\"]\n",
    "    n_steps = len(controls)\n",
    "    sub_keys = jax.random.split(key, n_steps + 1)\n",
    "    return jax.lax.scan(\n",
    "        improved_step,\n",
    "        robot_inputs[\"start\"],\n",
    "        (\n",
    "            observations,  # observation at time t\n",
    "            controls,  # guides step from t to t+1\n",
    "            sub_keys[1:],\n",
    "        ),\n",
    "    )\n",
    "\n",
    "\n",
    "jit_improved_path = jax.jit(improved_path, static_argnums=0)"
   ]
  },
  {
   "cell_type": "code",
   "execution_count": null,
   "id": "124",
   "metadata": {
    "lines_to_next_cell": 0
   },
   "outputs": [],
   "source": [
    "key, sub_key = jax.random.split(key)\n",
    "_, improved_low = jit_improved_path(\n",
    "    \"grid\", sub_key, motion_settings_low_deviation, observations_low_deviation\n",
    ")"
   ]
  },
  {
   "cell_type": "code",
   "execution_count": null,
   "id": "125",
   "metadata": {},
   "outputs": [],
   "source": [
    "def path_comparison_plot(*plots):\n",
    "    types = [\"improved\", \"integrated\", \"importance\", \"true\"]\n",
    "    plot = world_plot\n",
    "    plot += [\n",
    "        animate_path_as_line(p, strokeWidth=2, stroke=Plot.constantly(t))\n",
    "        for p, t in zip(plots, types)\n",
    "    ]\n",
    "    plot += [poses_to_plots(p, fill=Plot.constantly(t)) for p, t in zip(plots, types)]\n",
    "    return plot + Plot.color_map(\n",
    "        {\n",
    "            \"integrated\": \"green\",\n",
    "            \"improved\": \"blue\",\n",
    "            \"true\": \"black\",\n",
    "            \"importance\": \"red\",\n",
    "        }\n",
    "    )"
   ]
  },
  {
   "cell_type": "code",
   "execution_count": null,
   "id": "126",
   "metadata": {
    "lines_to_next_cell": 0
   },
   "outputs": [],
   "source": [
    "path_comparison_plot(\n",
    "    improved_low, path_integrated, low_deviation_path, path_low_deviation\n",
    ")"
   ]
  },
  {
   "cell_type": "code",
   "execution_count": null,
   "id": "127",
   "metadata": {
    "lines_to_next_cell": 0
   },
   "outputs": [],
   "source": [
    "key, sub_key = jax.random.split(key)\n",
    "_, improved_high = jit_improved_path(\n",
    "    \"boltzmann\", sub_key, motion_settings_high_deviation, observations_high_deviation\n",
    ")\n",
    "path_comparison_plot(\n",
    "    improved_high, path_integrated, high_deviation_path, path_high_deviation\n",
    ")"
   ]
  },
  {
   "cell_type": "markdown",
   "id": "128",
   "metadata": {
    "lines_to_next_cell": 0
   },
   "source": [
    "To see how the grid search improves poses, we play back the grid-search path\n",
    "next to an importance sample path. You can see the grid search has a better fit\n",
    "of sensor data to wall position at a variety of time steps."
   ]
  },
  {
   "cell_type": "code",
   "execution_count": null,
   "id": "129",
   "metadata": {
    "lines_to_next_cell": 0
   },
   "outputs": [],
   "source": [
    "Plot.Row(\n",
    "    animate_path_and_sensors(\n",
    "        improved_high,\n",
    "        observations_high_deviation,\n",
    "        motion_settings_high_deviation,\n",
    "        frame_key=\"frame\",\n",
    "    ),\n",
    "    animate_path_and_sensors(\n",
    "        high_deviation_path,\n",
    "        observations_high_deviation,\n",
    "        motion_settings_high_deviation,\n",
    "        frame_key=\"frame\",\n",
    "    ),\n",
    ") | Plot.Slider(\"frame\", 0, T, fps=2)"
   ]
  },
  {
   "cell_type": "code",
   "execution_count": null,
   "id": "130",
   "metadata": {},
   "outputs": [],
   "source": []
  }
 ],
 "metadata": {
  "jupytext": {
   "cell_metadata_filter": "title,-all",
   "custom_cell_magics": "kql",
   "encoding": "# -*- coding: utf-8 -*-"
  },
  "kernelspec": {
   "display_name": "Python 3",
   "language": "python",
   "name": "python3"
  }
 },
 "nbformat": 4,
 "nbformat_minor": 5
}
